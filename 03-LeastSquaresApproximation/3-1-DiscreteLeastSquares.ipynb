{
 "cells": [
  {
   "cell_type": "markdown",
   "metadata": {},
   "source": [
    "# Mínimos cuadrados: caso discreto"
   ]
  },
  {
   "cell_type": "markdown",
   "metadata": {},
   "source": [
    "## Dependencias"
   ]
  },
  {
   "cell_type": "code",
   "execution_count": 85,
   "metadata": {},
   "outputs": [],
   "source": [
    "from sympy import *\n",
    "from sympy.abc import x\n",
    "from mpmath import nsum\n",
    "from IPython.display import display\n",
    "from ipywidgets import interact, widgets, Layout\n",
    "import ipywidgets as widgets\n",
    "init_printing()"
   ]
  },
  {
   "cell_type": "code",
   "execution_count": 49,
   "metadata": {},
   "outputs": [
    {
     "name": "stdout",
     "output_type": "stream",
     "text": [
      "Cantidad de puntos a ingresar: 5\n"
     ]
    }
   ],
   "source": [
    "n = int(input('Cantidad de puntos a ingresar: '))"
   ]
  },
  {
   "cell_type": "code",
   "execution_count": 52,
   "metadata": {},
   "outputs": [
    {
     "name": "stdout",
     "output_type": "stream",
     "text": [
      "x0 = 4\n",
      "y0 = 102.56\n",
      "x1 = 4.2\n",
      "y1 = 113.18\n",
      "x2 = 4.5\n",
      "y2 = 130.11\n",
      "x3 = 4.7\n",
      "y3 = 142.05\n",
      "x4 = 5.1\n",
      "y4 = 167.53\n"
     ]
    }
   ],
   "source": [
    "puntos_x = []\n",
    "puntos_y = []\n",
    "for i in range(n):\n",
    "    puntos_x.append(float(input('x{:d} = '.format(i))))\n",
    "    puntos_y.append(float(input('y{:d} = '.format(i))))\n",
    "print(\"xi = {}\".format(puntos_x))\n",
    "print(\"yi = {}\".format(puntos_y))"
   ]
  },
  {
   "cell_type": "code",
   "execution_count": 106,
   "metadata": {},
   "outputs": [
    {
     "data": {
      "application/vnd.jupyter.widget-view+json": {
       "model_id": "77fe136c4ab1417d89789231b6f84071"
      }
     },
     "metadata": {},
     "output_type": "display_data"
    }
   ],
   "source": [
    "case = 1\n",
    "\n",
    "dropdown = widgets.Dropdown(\n",
    "    options = {'Polinomial' : 1, 'Exponencial' : 2, 'Potencial' : 3, 'Logarítmica' : 4},\n",
    "    value = 1,\n",
    "    description = 'Tipo de regresión: '\n",
    ");\n",
    "display(dropdown)"
   ]
  },
  {
   "cell_type": "code",
   "execution_count": 111,
   "metadata": {},
   "outputs": [
    {
     "name": "stdout",
     "output_type": "stream",
     "text": [
      "Grado del polinomio: 10\n",
      "\n",
      "                       10                        9                         8  \n",
      "- 1.24005118666392e-6⋅x   - 1.60231611732181e-5⋅x  + 0.000456720151187729⋅x  -\n",
      "\n",
      "                      7                        6                        5     \n",
      " 0.00193528276314131⋅x  - 0.00279317600199501⋅x  - 0.00096923753055128⋅x  + 0.\n",
      "\n",
      "                 4                       3                     2              \n",
      "141493891581525⋅x  + 0.0432639792616021⋅x  + 6.54012037706316⋅x  - 12.16244066\n",
      "\n",
      "                         \n",
      "75846⋅x + 27.286578294022\n"
     ]
    }
   ],
   "source": [
    "#Obtenemos la opcion seleccionada\n",
    "case = dropdown.value\n",
    "\n",
    "coeffs = []\n",
    "if case == 1:\n",
    "    \n",
    "    while True:\n",
    "        degree = int(input('Grado del polinomio: '))\n",
    "        if degree > 0:\n",
    "            break\n",
    "    A = Matrix(degree+1, degree+1, lambda i, j: nsum( lambda k: (puntos_x[int(k)])**(i+j), [0, len(puntos_x)-1]) )\n",
    "\n",
    "    B = Matrix(degree+1, 1, lambda i, j: nsum(lambda k: puntos_y[int(k)]*(puntos_x[int(k)])**i , [0, len(puntos_y)-1]) )\n",
    "    #Declaramos un arreglo para los coeficientes\n",
    "    \n",
    "    for i in range(0, degree+1):\n",
    "        coeffs.append(Symbol('a'+str(i)))\n",
    "\n",
    "    #Resolvemos el sistema de ecuaciones\n",
    "    c = linsolve((A, B), coeffs)\n",
    "    \n",
    "    #Construimos el polinomio\n",
    "    pol = c.args[0].args[0]\n",
    "    for i in range(1, degree+1):\n",
    "        pol += (c.args[0].args[i])*x**i\n",
    "        \n",
    "elif case == 2:\n",
    "    A = Matrix(2, 2, lambda i, j: nsum( lambda k: (puntos_x[int(k)])**(i+j), [0, len(puntos_x) -1]))\n",
    "    B = Matrix(2, 1, lambda i, j: nsum( lambda k: ln(puntos_y[int(k)]) * (puntos_x[int(k)])**i, [0, len(puntos_y) -1]))\n",
    "    \n",
    "    coeffs = [Symbol('a0'), Symbol('a1')]\n",
    "    \n",
    "    c = linsolve((A, B), coeffs)\n",
    "    \n",
    "    pol = exp(c.args[0].args[0]) * exp(c.args[0].args[1]*x)    \n",
    "elif case == 3:\n",
    "\n",
    "    A = Matrix(2, 2, lambda i, j: nsum( lambda k: (ln(puntos_x[int(k)]))**(i+j), [0, len(puntos_x)-1]) )\n",
    "    B = Matrix(2, 1, lambda i, j: nsum(lambda k: ln(puntos_y[int(k)])*(ln(puntos_x[int(k)]))**i , [0, len(puntos_y)-1]) )\n",
    "    \n",
    "    coeffs = [Symbol('a0'), Symbol('a1')]\n",
    "    \n",
    "    c = linsolve((A, B), coeffs)\n",
    "    \n",
    "    pol = exp(c.args[0].args[0]) * x ** c.args[0].args[1]\n",
    "\n",
    "elif case == 4:\n",
    "    A = Matrix(2, 2, lambda i, j: nsum( lambda k: (ln(puntos_x[int(k)]))**(i+j), [0, len(puntos_x)-1]) )\n",
    "    B = Matrix(2, 1, lambda i, j: nsum(lambda k: ln(puntos_x[int(k)])**i * (puntos_y[int(k)]) , [0, len(puntos_y)-1]) )\n",
    "    \n",
    "    coeffs = [Symbol('a0'), Symbol('a1')]\n",
    "    \n",
    "    c = linsolve((A, B), coeffs)\n",
    "    \n",
    "    pol = c.args[0].args[0] + c.args[0].args[1] * log(x)\n",
    "    \n",
    "print()\n",
    "pprint(pol)"
   ]
  },
  {
   "cell_type": "code",
   "execution_count": null,
   "metadata": {},
   "outputs": [],
   "source": []
  }
 ],
 "metadata": {
  "kernelspec": {
   "display_name": "Python 3",
   "language": "python",
   "name": "python3"
  },
  "language_info": {
   "codemirror_mode": {
    "name": "ipython",
    "version": 3
   },
   "file_extension": ".py",
   "mimetype": "text/x-python",
   "name": "python",
   "nbconvert_exporter": "python",
   "pygments_lexer": "ipython3",
   "version": "3.6.5"
  }
 },
 "nbformat": 4,
 "nbformat_minor": 2
}
