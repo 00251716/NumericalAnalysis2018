{
 "cells": [
  {
   "cell_type": "markdown",
   "metadata": {},
   "source": [
    "## Mínimos cuadrados: caso continuo"
   ]
  },
  {
   "cell_type": "markdown",
   "metadata": {},
   "source": [
    "Sea $\\mathcal{P}_{n}$ el conjunto de todos los polinomios de grado menor o igual a $n$, donde $n \\geq 0$. El objetivo de la aproximación polinomial es encontrar un polinomio de un grado dado $n$ que provea la *mejor aproximación* a una función dada. La respuesta a este problema variará según lo que entendamos por mejor aproximación. En particular, consideremos una función $f \\in C[a, b]$, donde $[a, b]$ es un intervalo no vacío y acotado. La norma 2 de $f$ está dada por \n",
    "\n",
    "$$ || f || _{2} = \\left( \\int\\limits_a^b w(x) (f(x))^{2} dx \\right) ^{ \\frac{1}{2} } $$\n",
    "\n",
    "donde $w$ es una función de peso que es positiva, continua e integrable en $(a, b)$. Equipados con esta noción, podemos definir el problema de mínimos cuadrados como un problema computacional de la siguiente forma:\n",
    "\n",
    "---\n",
    "\n",
    "**Entrada:** Una función $f \\in C[a, b]$ y un $n \\in \\mathbb{N}$.\n",
    "\n",
    "**Salida:** $p_{n} \\in \\mathcal{P}_{n}$ tal que \n",
    "\n",
    "$$ || f - p_{n} ||_{2} = \\min_{q \\in \\mathcal{P}_{n}} || f - q ||_{2}  $$\n",
    "\n",
    "---\n",
    "\n",
    "El $p_{n}$ en la salida se denomina polinomio de mejor aproximación de grado $n$ para $f$ respecto a la norma $2$ en $(a, b)$. La demostración de la existencia y unicidad de $p_{n}$ se puede encontrar en [S&M], entre otras fuentes.\n",
    "\n",
    "El problema anterior es equivalente al de minimizar \n",
    "\n",
    "$$\n",
    "(1.1) \\hspace{1.5cm}  || f - p_{n} ||_{2}^{2} =  \\int\\limits_a^b w(x) (f(x) - p_{n}(x))^{2} dx \n",
    "$$\n",
    "\n",
    "y precisamente por eso se denomina *mínimos cuadrados*: se busca minimizar la norma al cuadrado, o el error cuadrático. Si escribimos $p_{n}$ como\n",
    "\n",
    "$$ p_{n}(x) = a_{0} + a_{1}x + \\ldots + a_{n}x^{n} $$\n",
    "\n",
    "queremos elegir coeficientes $a_{0}, a_{1}, \\ldots , a_{n}$ que minimicen $(1.1)$; al derivar parcialmente esta expresión respecto a cada $a_{j}$ obtenemos el siguiente sistema de $n+1$ ecuaciones para los $n+1$ coeficientes:\n",
    "\n",
    "$$ \\begin{array}{rcr} a_{0}\\langle 1, 1 \\rangle + a_{1}\\langle 1, x \\rangle + a_{2}\\langle 1, x^{2} \\rangle + \\ldots + a_{n}\\langle 1, x^{n} \\rangle\n",
    "& = & \\langle f, 1 \\rangle \\\\ \n",
    "a_{0}\\langle x, 1 \\rangle + a_{1}\\langle x, x \\rangle + a_{2}\\langle x, x^{2} \\rangle + \\ldots + a_{n}\\langle x, x^{n} \\rangle\n",
    "& = & \\langle f, x \\rangle \\\\  \\vdots \\\\ \n",
    "a_{0}\\langle x^{n}, 1 \\rangle + a_{1}\\langle x^{n}, x \\rangle + a_{2}\\langle x^{n}, x^{2} \\rangle + \\ldots + a_{n}\\langle x^{n}, x^{n} \\rangle\n",
    "& = & \\langle f, x^{n} \\rangle  \\end{array} $$\n",
    "\n",
    "donde $\\langle f, g\\rangle = \\int\\limits_a^b w(x) f(x)g(x)dx $ denota el producto interno en $C[a, b]$ respecto a una función de peso $w$."
   ]
  },
  {
   "cell_type": "markdown",
   "metadata": {},
   "source": [
    "### Dependencias"
   ]
  },
  {
   "cell_type": "code",
   "execution_count": 1,
   "metadata": {},
   "outputs": [],
   "source": [
    "from sympy import *\n",
    "from sympy.abc import x\n",
    "from sympy.solvers.solveset import linsolve #para solucionar SEL\n",
    "from scipy.integrate import quad #integración numérica\n",
    "\n",
    "from IPython.display import display, Latex\n",
    "from sympy.plotting import plot;\n",
    "import matplotlib.pyplot as mpl\n",
    "\n",
    "mpl.rcParams['figure.figsize'] = 8, 8\n",
    "\n",
    "import ipywidgets as widgets\n",
    "from ipywidgets import interact, widgets, Layout\n",
    "from ipywidgets import interactive, interact_manual, interact;\n",
    "\n",
    "from sympy.interactive import printing;\n",
    "printing.init_printing(use_latex=True);\n"
   ]
  },
  {
   "cell_type": "markdown",
   "metadata": {},
   "source": [
    "### Desarrollo"
   ]
  },
  {
   "cell_type": "code",
   "execution_count": 11,
   "metadata": {},
   "outputs": [],
   "source": [
    "def displayOutput(n):    \n",
    "    #Partiendo de las ecuaciones normales y calculando los productos internos,\n",
    "    #se puede demostrar que en este caso la entrada ij-ésima de la matriz A \n",
    "    #está dada por (b**(i+j+1) - a**(i+j+1))/(i+j+1). Este hecho resulta últil para \n",
    "    #construir la matriz A con una expresión lambda:\n",
    "    A = Matrix(n + 1, n + 1, lambda i,j: (b**(i+j+1) - a**(i+j+1))/(i+j+1))\n",
    "\n",
    "    #Construimos la matriz b\n",
    "    B = Matrix(n + 1, 1, lambda i, j: quad( lambda x: eval(str(f))*x**i , a, b)[0] )\n",
    "\n",
    "    #Declaramos un arreglo para los coeficientes\n",
    "    coeffs = []\n",
    "    for i in range(0, n+1):\n",
    "        coeffs.append(Symbol('a'+str(i)))\n",
    "\n",
    "    #Resolvemos el sistema de ecuaciones\n",
    "    c = linsolve((A, B), coeffs)\n",
    "\n",
    "    #Construimos el polinomio\n",
    "    pol = c.args[0].args[0]\n",
    "    for i in range(1, n+1):\n",
    "        pol += (c.args[0].args[i])*x**i   \n",
    "\n",
    "    p = plot(f, pol, (x, a, b), show = False, title = 'Azul: función ; Rojo: polinomio de aprox.')\n",
    "    p[0].line_color='b'; #Se muestra en azul la función original\n",
    "    p[1].line_color='r'; #En rojo el polinomio de aproximación\n",
    "    p.show()\n",
    "    display(Latex('$$ p_{'+ str(n) +'} (x) = '+latex(pol)+'$$'))"
   ]
  },
  {
   "cell_type": "markdown",
   "metadata": {},
   "source": [
    "### Parámetros de entrada"
   ]
  },
  {
   "cell_type": "code",
   "execution_count": 12,
   "metadata": {},
   "outputs": [
    {
     "name": "stdout",
     "output_type": "stream",
     "text": [
      "Función: cos(x)\n",
      "Desde: -pi\n",
      "Hasta: pi\n"
     ]
    },
    {
     "data": {
      "text/plain": [
       "'Grado del polinomio: '"
      ]
     },
     "metadata": {},
     "output_type": "display_data"
    },
    {
     "data": {
      "application/vnd.jupyter.widget-view+json": {
       "model_id": "c1c11d1b8cf84c3fa4baa05254a2289f",
       "version_major": 2,
       "version_minor": 0
      },
      "text/plain": [
       "interactive(children=(IntSlider(value=10, description='n', max=20, min=1), Button(description='Run Interact', …"
      ]
     },
     "metadata": {},
     "output_type": "display_data"
    }
   ],
   "source": [
    "#Función\n",
    "#f = x*ln(x)\n",
    "while True:\n",
    "    try:\n",
    "        f = sympify(input(\"Función: \"))\n",
    "        break\n",
    "    except sympy.SympifyError:\n",
    "        print(\"La función no fue ingresada correctamente. Intente de nuevo.\")\n",
    "while True:\n",
    "    try:\n",
    "        a = float(sympify(input(\"Desde: \")).evalf())\n",
    "        b = float(sympify(input(\"Hasta: \")).evalf())\n",
    "        break\n",
    "    except ValueError:\n",
    "        print(\"El valor ingresado no es un número. Intente de nuevo.\")\n",
    "\n",
    "display('Grado del polinomio: ')\n",
    "interactive_plot = interact_manual(displayOutput, n=(1, 20, 1))"
   ]
  },
  {
   "cell_type": "markdown",
   "metadata": {},
   "source": [
    "### Referencias\n",
    "\n",
    "[S&M] Süli, E., & Mayers, D. F. (2002). Approximation in the 2-norm. En *An introduction to numerical analysis*. Cambridge: Cambridge University Press."
   ]
  }
 ],
 "metadata": {
  "kernelspec": {
   "display_name": "Python 3",
   "language": "python",
   "name": "python3"
  },
  "language_info": {
   "codemirror_mode": {
    "name": "ipython",
    "version": 3
   },
   "file_extension": ".py",
   "mimetype": "text/x-python",
   "name": "python",
   "nbconvert_exporter": "python",
   "pygments_lexer": "ipython3",
   "version": "3.6.5"
  }
 },
 "nbformat": 4,
 "nbformat_minor": 2
}
