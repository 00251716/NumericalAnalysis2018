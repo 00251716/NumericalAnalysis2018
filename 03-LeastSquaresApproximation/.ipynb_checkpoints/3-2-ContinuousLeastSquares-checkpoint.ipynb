{
 "cells": [
  {
   "cell_type": "markdown",
   "metadata": {},
   "source": [
    "## Mínimos cuadrados: caso continuo"
   ]
  },
  {
   "cell_type": "markdown",
   "metadata": {},
   "source": [
    "Sea $\\mathcal{P}_{n}$ el conjunto de todos los polinomios de grado mayor o igual a $n$, donde $n \\geq 0$. El objetivo de la aproximación polinomial es encontrar un polinomio de un grado dado $n$ que provea la *mejor aproximación* a una función dada. La respuesta a este problema variará según lo que entendamos por mejor aproximación. En particular, consideremos una función $f \\in C[a, b]$, donde $[a, b]$ es un intervalo no vacío y acotado. La norma 2 de $f$ está dada por \n",
    "\n",
    "$$ || f || _{2} = \\left( \\int\\limits_a^b w(x) (f(x))^{2} dx \\right) ^{ \\frac{1}{2} } $$\n",
    "\n",
    "donde $w$ es una función de peso que es positiva, continua e integrable en $(a, b)$. Equipados con esta noción, podemos definir el problema de mínimos cuadrados como un problema computacional de la siguiente forma:\n",
    "\n",
    "**Entrada:** Una función $f \\in C[a, b]$ y un $n \\in \\mathbb{N}$.\n",
    "\n",
    "**Salida:** $p_{n} \\in \\mathcal{P}_{n}$ tal que \n",
    "\n",
    "$$ || f - p_{n} ||_{2} = \\min_{q \\in \\mathcal{P}_{n}} || f - q ||_{2}  $$\n",
    "\n",
    "El $p_{n}$ en la salida se denomina polinomio de mejor aproximación de grado $n$ para $f$ respecto a la norma $2$ en $(a, b)$. La demostración de la existencia y unicidad de $p_{n}$ se puede encontrar en [S&M], entre otras fuentes.\n",
    "\n",
    "El problema anterior es equivalente al de minimizar \n",
    "\n",
    "$$\n",
    "(1.1) \\hspace{1.5cm}  || f - p_{n} ||_{2}^{2} =  \\int\\limits_a^b w(x) (f(x) - p_{n}(x))^{2} dx \n",
    "$$\n",
    "\n",
    "y precisamente por eso se denomina *mínimos cuadrados*: se busca minimizar la norma al cuadrado, o el error cuadrático. Si escribimos $p_{n}$ como\n",
    "\n",
    "$$ p_{n}(x) = a_{0} + a_{1}x + \\ldots + a_{n}x^{n} $$\n",
    "\n",
    "queremos elegir coeficientes $a_{0}, a_{1}, \\ldots , a_{n}$ que minimicen $(1.1)$; al derivar parcialmente esta expresión respecto a cada $a_{j}$ obtenemos el siguiente sistema de $n+1$ ecuaciones para los $n+1$ coeficientes:\n",
    "\n",
    "$$ \\begin{array}{rcr} c_{0}\\langle 1, 1 \\rangle + c_{1}\\langle 1, x \\rangle + c_{2}\\langle 1, x^{2} \\rangle + \\ldots + c_{n}\\langle 1, x^{n} \\rangle\n",
    "& = & \\langle f, 1 \\rangle \\\\ \n",
    "c_{0}\\langle x, 1 \\rangle + c_{1}\\langle x, x \\rangle + c_{2}\\langle x, x^{2} \\rangle + \\ldots + c_{n}\\langle x, x^{n} \\rangle\n",
    "& = & \\langle f, x \\rangle \\\\  \\vdots \\\\ \n",
    "c_{0}\\langle x^{n}, 1 \\rangle + c_{1}\\langle x^{n}, x \\rangle + c_{2}\\langle x^{n}, x^{2} \\rangle + \\ldots + c_{n}\\langle x^{n}, x^{n} \\rangle\n",
    "& = & \\langle f, x^{n} \\rangle  \\end{array} $$\n",
    "\n",
    "donde $\\langle\\cdot,\\cdot\\rangle$ denota el producto interno en $C[a, b]$."
   ]
  },
  {
   "cell_type": "markdown",
   "metadata": {},
   "source": [
    "### Dependencias"
   ]
  },
  {
   "cell_type": "code",
   "execution_count": 1,
   "metadata": {},
   "outputs": [],
   "source": [
    "from sympy import *\n",
    "from sympy.abc import x\n",
    "from sympy.solvers.solveset import linsolve\n",
    "from scipy.integrate import quad\n",
    "\n",
    "from IPython.display import display, Math\n",
    "\n",
    "from sympy.interactive import printing;\n",
    "printing.init_printing(use_latex=True);"
   ]
  },
  {
   "cell_type": "markdown",
   "metadata": {},
   "source": [
    "### Parámetros"
   ]
  },
  {
   "cell_type": "code",
   "execution_count": 2,
   "metadata": {},
   "outputs": [],
   "source": [
    "#Función\n",
    "f = '1/x'\n",
    "\n",
    "#Extremos del intervalo\n",
    "a = 1\n",
    "b = 3\n",
    "\n",
    "#Grado del polinomio\n",
    "n = 4"
   ]
  },
  {
   "cell_type": "markdown",
   "metadata": {},
   "source": [
    "### Desarollo"
   ]
  },
  {
   "cell_type": "code",
   "execution_count": 3,
   "metadata": {},
   "outputs": [
    {
     "data": {
      "image/png": "[encoded data removed]",
      "text/latex": [
       "$$0.0457173608703168 x^{4} - 0.450983493010565 x^{3} + 1.72837644163813 x^{2} - 3.20934950065141 x + 2.88184869558227$$"
      ],
      "text/plain": [
       "                    4                      3                     2            \n",
       "0.0457173608703168⋅x  - 0.450983493010565⋅x  + 1.72837644163813⋅x  - 3.2093495\n",
       "\n",
       "                            \n",
       "0065141⋅x + 2.88184869558227"
      ]
     },
     "metadata": {},
     "output_type": "display_data"
    }
   ],
   "source": [
    "#Partiendo de las ecuaciones normales y calculando los productos internos,\n",
    "#se puede demostrar que en este caso la entrada ij-ésima de la matriz A \n",
    "#está dada por (b**(i+j+1) - a**(i+j+1))/(i+j+1). Este hecho resulta últil para \n",
    "#construir la matriz A con una expresión lambda:\n",
    "A = Matrix(n + 1, n + 1, lambda i,j: (b**(i+j+1) - a**(i+j+1))/(i+j+1))\n",
    "\n",
    "#Construimos la matriz b\n",
    "b = Matrix(n + 1, 1, lambda i, j: quad( lambda x: eval(f)*x**i , a, b)[0] )\n",
    "\n",
    "#Declaramos un arreglo para los coeficientes\n",
    "coeffs = []\n",
    "for i in range(0, n+1):\n",
    "    coeffs.append(Symbol('a'+str(i)))\n",
    "\n",
    "#Ahora resolvemos el sistema de ecuaciones\n",
    "c = linsolve((A, b), coeffs)\n",
    "\n",
    "#Construimos el polinomio\n",
    "pol = c.args[0].args[0]\n",
    "for i in range(1, n+1):\n",
    "    pol += (c.args[0].args[i])*x**i\n",
    "\n",
    "display(pol)"
   ]
  },
  {
   "cell_type": "code",
   "execution_count": null,
   "metadata": {},
   "outputs": [],
   "source": []
  },
  {
   "cell_type": "markdown",
   "metadata": {},
   "source": [
    "### Referencias\n",
    "\n",
    "[S&M] Süli, E., & Mayers, D. F. (2002). Approximation in the 2-norm. En *An introduction to numerical analysis*. Cambridge: Cambridge University Press."
   ]
  },
  {
   "cell_type": "code",
   "execution_count": null,
   "metadata": {},
   "outputs": [],
   "source": []
  }
 ],
 "metadata": {
  "kernelspec": {
   "display_name": "Python 3",
   "language": "python",
   "name": "python3"
  },
  "language_info": {
   "codemirror_mode": {
    "name": "ipython",
    "version": 3
   },
   "file_extension": ".py",
   "mimetype": "text/x-python",
   "name": "python",
   "nbconvert_exporter": "python",
   "pygments_lexer": "ipython3",
   "version": "3.6.5"
  }
 },
 "nbformat": 4,
 "nbformat_minor": 2
}
