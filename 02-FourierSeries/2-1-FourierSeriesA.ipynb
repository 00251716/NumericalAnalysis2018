{
 "cells": [
  {
   "cell_type": "code",
   "execution_count": 2,
   "metadata": {},
   "outputs": [],
   "source": [
    "from IPython.display import Latex, display, Math\n",
    "\n",
    "import sympy as sy\n",
    "from sympy.interactive import printing;\n",
    "from sympy.abc import x, k;\n",
    "from sympy import Float;\n",
    "\n",
    "from scipy.integrate import quad\n",
    "\n",
    "from sympy.utilities.lambdify import lambdastr;\n",
    "\n",
    "import numpy as np\n",
    "\n",
    "import math\n",
    "\n",
    "import ipywidgets as widgets\n",
    "from ipywidgets import interact, widgets, Layout\n",
    "from ipywidgets import interactive, interact_manual, interact;\n",
    "\n",
    "import matplotlib.pyplot as mpl\n",
    "\n",
    "from IPython.display import Latex\n",
    "\n",
    "printing.init_printing(use_latex=True);\n",
    "mpl.rcParams['figure.figsize'] = 7, 7\n",
    "\n"
   ]
  },
  {
   "cell_type": "code",
   "execution_count": 49,
   "metadata": {},
   "outputs": [],
   "source": [
    "def geta0(f,a,b,l):\n",
    "    a0 = 0\n",
    "    for i in range(len(f)):\n",
    "        a0 += quad(sy.lambdify(x,f[i]),a[i],b[i])[0]\n",
    "    return (1/(2*l))*a0\n",
    "\n",
    "def getcoeff(f,a,b,l,n):\n",
    "    ak = []\n",
    "    bk = []\n",
    "    for i in range(len(f)):\n",
    "        fa = f[i]*(sy.cos((k*x*sy.pi)/l))\n",
    "        fb = f[i]*(sy.sin((k*x*sy.pi)/l))\n",
    "        \n",
    "        ffa = eval(lambdastr((x,k),fa))\n",
    "        ffb = eval(lambdastr((x,k),fb))\n",
    "        \n",
    "        for j in range(n):\n",
    "            if(i==0):\n",
    "                ak.append((1/l)*quad(ffa,a[i],b[i],args=(j+1), epsabs = 0.1)[0])\n",
    "                bk.append((1/l)*quad(ffb,a[i],b[i],args=(j+1), epsabs = 0.1)[0])\n",
    "            else:\n",
    "                ak[j]+=(1/l)*quad(ffa,a[i],b[i],args=(j+1))[0]\n",
    "                bk[j]+=(1/l)*quad(ffb,a[i],b[i],args=(j+1))[0]     \n",
    "    return (ak, bk)\n",
    "\n",
    "\n",
    "def roundToZero(m,e):\n",
    "    for i in range(len(m)):\n",
    "            if (abs(m[i]) < e):\n",
    "                m[i] = 0\n",
    "                \n",
    "                \n",
    "#Función invocada por el widget\n",
    "def displayOutput(N):\n",
    "    fig, ax = mpl.subplots(figsize=(10, 10));\n",
    "    coeffs = getcoeff(f,a,b,l,N)\n",
    "    \n",
    "    roundToZero(coeffs[0],0.00000000001)\n",
    "    roundToZero(coeffs[1],0.00000000001)\n",
    "        \n",
    "    fa = geta0(f,a,b,l)\n",
    "\n",
    "    #Graficando las funciones reales\n",
    "    for i in range(m):\n",
    "        xv = np.linspace(a[i], b[i], 110)\n",
    "        if isinstance(f[i].evalf(), sy.numbers.Float):\n",
    "            lambdaf = np.vectorize(sy.lambdify(x,f[i]))\n",
    "        else:\n",
    "            lambdaf = sy.lambdify(x,f[i])\n",
    "        ax.plot(xv, lambdaf(xv), color='green')\n",
    "\n",
    "    #generando polinomio\n",
    "    for j in range(N):\n",
    "        fa += coeffs[0][j]*sy.cos(((j+1)*sy.pi*x)/l) + coeffs[1][j]*sy.sin(((j+1)*sy.pi*x)/l)\n",
    "\n",
    "    #graficando la funcion obtenida    \n",
    "    lambdaf1 = sy.lambdify(x,fa)\n",
    "    xv1 = np.linspace(min(a), max(b), 110)\n",
    "    ax.plot(xv1, lambdaf1(xv1), color='r')\n",
    "    \n",
    "    mpl.show()\n",
    "    display(fa.evalf())"
   ]
  },
  {
   "cell_type": "code",
   "execution_count": 53,
   "metadata": {},
   "outputs": [
    {
     "name": "stdout",
     "output_type": "stream",
     "text": [
      "Cantidad de funciones: 3\n",
      "Funcion 1: x\n",
      "Desde: 0\n",
      "Hasta: 1\n",
      "Funcion 2: 1\n",
      "Desde: 1\n",
      "Hasta: 2\n",
      "Funcion 3: 3-x\n",
      "Desde: 2\n",
      "Hasta: 3\n",
      "Periodo :3\n"
     ]
    },
    {
     "data": {
      "image/png": "[encoded data removed]",
      "text/latex": [
       "$$\\left [ x, \\quad 1, \\quad - x + 3\\right ]$$"
      ],
      "text/plain": [
       "[x, 1, -x + 3]"
      ]
     },
     "metadata": {},
     "output_type": "display_data"
    }
   ],
   "source": [
    "f = []\n",
    "a = []\n",
    "b = []\n",
    "\n",
    "while True:\n",
    "    m = int(input('Cantidad de funciones: '))\n",
    "    if m > 0:\n",
    "        break\n",
    "\n",
    "for c in range(1,m+1):    \n",
    "    while True:\n",
    "        try:\n",
    "            f.append(sy.sympify(input(\"Funcion \"+str(c)+\": \")))\n",
    "            break\n",
    "        except sy.SympifyError:\n",
    "            print(\"La función no fue ingresada correctamente. Intente de nuevo.\")\n",
    "            \n",
    "    while True:\n",
    "        try:\n",
    "            a.append(float(sy.sympify(input(\"Desde: \")).evalf()))\n",
    "            b.append(float(sy.sympify(input(\"Hasta: \")).evalf()))\n",
    "            break\n",
    "        except ValueError:\n",
    "            print(\"El valor ingresado no es un número. Intente de nuevo.\")\n",
    "\n",
    "while True:\n",
    "    try:\n",
    "        T = float(sy.sympify(input(\"Periodo :\")).evalf())\n",
    "        break\n",
    "    except ValueError:\n",
    "        print(\"El valor ingresado no es un número. Intente de nuevo.\")\n",
    "        \n",
    "display(f)"
   ]
  },
  {
   "cell_type": "code",
   "execution_count": 52,
   "metadata": {
    "scrolled": false
   },
   "outputs": [
    {
     "data": {
      "application/vnd.jupyter.widget-view+json": {
       "model_id": "4f429c6e9db54d4cbedf939cb831034f",
       "version_major": 2,
       "version_minor": 0
      },
      "text/plain": [
       "interactive(children=(IntSlider(value=10, description='N', max=20, min=1), Button(description='Run Interact', …"
      ]
     },
     "metadata": {},
     "output_type": "display_data"
    }
   ],
   "source": [
    "l=T/2\n",
    "interactive_plot = interact_manual(displayOutput, N=(1, 20, 1))"
   ]
  },
  {
   "cell_type": "code",
   "execution_count": null,
   "metadata": {
    "scrolled": false
   },
   "outputs": [],
   "source": []
  },
  {
   "cell_type": "code",
   "execution_count": null,
   "metadata": {},
   "outputs": [],
   "source": []
  },
  {
   "cell_type": "code",
   "execution_count": null,
   "metadata": {},
   "outputs": [],
   "source": []
  }
 ],
 "metadata": {
  "kernelspec": {
   "display_name": "Python 3",
   "language": "python",
   "name": "python3"
  },
  "language_info": {
   "codemirror_mode": {
    "name": "ipython",
    "version": 3
   },
   "file_extension": ".py",
   "mimetype": "text/x-python",
   "name": "python",
   "nbconvert_exporter": "python",
   "pygments_lexer": "ipython3",
   "version": "3.6.5"
  }
 },
 "nbformat": 4,
 "nbformat_minor": 2
}
