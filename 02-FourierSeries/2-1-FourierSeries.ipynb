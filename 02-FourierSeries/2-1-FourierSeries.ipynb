{
 "cells": [
  {
   "cell_type": "markdown",
   "metadata": {},
   "source": [
    "## Aproximación trigonométrica"
   ]
  },
  {
   "cell_type": "markdown",
   "metadata": {},
   "source": [
    "## Parámetros"
   ]
  },
  {
   "cell_type": "code",
   "execution_count": null,
   "metadata": {},
   "outputs": [],
   "source": []
  },
  {
   "cell_type": "code",
   "execution_count": 146,
   "metadata": {},
   "outputs": [
    {
     "data": {
      "application/vnd.jupyter.widget-view+json": {
       "model_id": "032aca76981042178572f34f6d07de54"
      }
     },
     "metadata": {},
     "output_type": "display_data"
    }
   ],
   "source": [
    "from IPython.display import Latex\n",
    "from sympy import fourier_series, pi, latex;\n",
    "from sympy.interactive import printing;\n",
    "from sympy.plotting import plot;\n",
    "from sympy.abc import x;\n",
    "from ipywidgets import interactive;\n",
    "\n",
    "printing.init_printing(use_latex=True);\n",
    "\n",
    "def f(N):\n",
    "    p1 = fourier_series(x**2, (x, -pi, pi)).truncate(n=N)\n",
    "    p = plot(x**2, p1, (x, -pi, pi), show = False)\n",
    "    p[0].line_color='r';\n",
    "    p.show()\n",
    "    display(Latex('$T_{'+ str(N) +'} (x) = '+latex(p1)+'$'))\n",
    "    \n",
    "\n",
    "    \n",
    "interactive_plot = interact_manual(f, N=(1, 20, 1) )\n",
    "interactive_plot;\n",
    "\n"
   ]
  },
  {
   "cell_type": "code",
   "execution_count": null,
   "metadata": {},
   "outputs": [],
   "source": []
  }
 ],
 "metadata": {
  "kernelspec": {
   "display_name": "Python 3",
   "language": "python",
   "name": "python3"
  },
  "language_info": {
   "codemirror_mode": {
    "name": "ipython",
    "version": 3
   },
   "file_extension": ".py",
   "mimetype": "text/x-python",
   "name": "python",
   "nbconvert_exporter": "python",
   "pygments_lexer": "ipython3",
   "version": "3.6.5"
  }
 },
 "nbformat": 4,
 "nbformat_minor": 2
}
