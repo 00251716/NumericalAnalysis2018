{
 "cells": [
  {
   "cell_type": "markdown",
   "metadata": {},
   "source": [
    "# Aproximación trigonométrica"
   ]
  },
  {
   "cell_type": "markdown",
   "metadata": {},
   "source": [
    "El problema de mínimos cuadrados se vuelve más sencillo cuando consideramos sistemas ortogonales de funciones como bases. Un sistema de particular utilidad se puede describir de la siguiente forma:\n",
    "\n",
    "$$  \\begin{cases} \n",
    "      \\phi_{0}(x) = 1 \\\\\n",
    "      \\phi_{k}(x) = cos(kx) & k = 1, \\ldots , n \\\\\n",
    "      \\phi_{n+k}(x) = sin(kx) & k = 1, \\ldots , n  \n",
    "   \\end{cases}\n",
    " $$\n",
    " \n",
    " Entonces el sistema $ \\{ \\phi_{k} \\}_{k = 0}^{2n-1}$ es ortogonal en $[-\\pi, \\pi]$ respecto a la función de peso $w(x) \\equiv 1$. Para cada $f \\in C[-\\pi, \\pi]$ buscamos la aproximación de mínimos cuadrados a través de una combinación lineal de funciones en $ \\{ \\phi_{k} \\}_{k = 0}^{2n-1}$; es decir, una función de la forma\n",
    " \n",
    " $$ T_{n}(x) = a_{0} + \\sum_{k=1}^{n} ( a_{k} cos(kx) + b_{k}sin(kx) ) $$\n",
    " \n",
    " que minimice la norma al cuadrado:\n",
    " \n",
    " $$ || f - T_{n} ||_{2}^{2} =  $$"
   ]
  },
  {
   "cell_type": "markdown",
   "metadata": {},
   "source": [
    "## Dependencias"
   ]
  },
  {
   "cell_type": "code",
   "execution_count": 3,
   "metadata": {},
   "outputs": [],
   "source": [
    "from IPython.display import Latex, display, Math\n",
    "from sympy import *;\n",
    "from sympy.interactive import printing;\n",
    "from sympy.plotting import plot;\n",
    "from sympy.abc import x, z, n;\n",
    "from ipywidgets import interactive, interact_manual, interact;\n",
    "import matplotlib.pyplot as mpl\n",
    "\n",
    "printing.init_printing(use_latex=True);\n",
    "mpl.rcParams['figure.figsize'] = 7, 7"
   ]
  },
  {
   "cell_type": "markdown",
   "metadata": {},
   "source": [
    "## Funciones"
   ]
  },
  {
   "cell_type": "code",
   "execution_count": 17,
   "metadata": {},
   "outputs": [],
   "source": [
    "#Predicado para buscar la expresión sin(n*x)\n",
    "def matches_sin(y):\n",
    "    if(y.func == sin):\n",
    "        if(y.args[0].func == Mul):\n",
    "            if(len(y.args[0].args) == 2 and (y.args[0].args[0] == pi or y.args[0].args[1] == pi )):\n",
    "                return True\n",
    "    else:\n",
    "        return False\n",
    "#Predicado para buscar la expresión cos(n*x)               \n",
    "def matches_cos(y):\n",
    "    if(y.func == cos):\n",
    "        if(y.args[0].func == Mul):\n",
    "            if(len(y.args[0].args) == 2 and (y.args[0].args[0] == pi or y.args[0].args[1] == pi )):\n",
    "                return True\n",
    "    else:        \n",
    "        return False  \n",
    "\n",
    "#Función para depurar coeficientes \n",
    "def depurate(expr):\n",
    "    t = (0, ) #Este se lo vamos a pasar a un objeto Add\n",
    "    for i in range(0, len(expr.args)): #Para cada uno de los objetos Mul en Add\n",
    "        mul = (1, ) #Aquí vamos a construir cada mul\n",
    "        for j in range(0, len(expr.args[i].args)):\n",
    "            if matches_sin(expr.args[i].args[j]):\n",
    "                mul = mul + (Integer(0), )\n",
    "            if matches_cos(expr.args[i].args[j]):\n",
    "                mul = mul + (Pow(Integer(-1), Symbol('n')), )\n",
    "            else:\n",
    "                mul = mul + (expr.args[i].args[j], )\n",
    "        t = t + (Mul(*mul), )        \n",
    "    return Add(*t)\n",
    "\n",
    "#Función invocada por el widget\n",
    "def displayOutput(N):\n",
    "    p1 = F.truncate(n=N)\n",
    "    p = plot(f, p1, (x, -T/2, T/2), show = False)\n",
    "    p[0].line_color='r';\n",
    "    p.show()\n",
    "    display(Latex('$$ T_{'+ str(N) +'} (x) = '+latex(p1)+'$$'))"
   ]
  },
  {
   "cell_type": "markdown",
   "metadata": {},
   "source": [
    "## Parámetros"
   ]
  },
  {
   "cell_type": "code",
   "execution_count": 20,
   "metadata": {},
   "outputs": [],
   "source": [
    "#Período\n",
    "T = 2*pi\n",
    "\n",
    "#función\n",
    "f = x**2"
   ]
  },
  {
   "cell_type": "markdown",
   "metadata": {},
   "source": [
    "## Serie de Fourier"
   ]
  },
  {
   "cell_type": "code",
   "execution_count": 21,
   "metadata": {},
   "outputs": [
    {
     "data": {
      "text/latex": [
       "$$ a_{0} =\\frac{\\pi^{2}}{3}$$"
      ],
      "text/plain": [
       "<IPython.core.display.Latex object>"
      ]
     },
     "metadata": {},
     "output_type": "display_data"
    },
    {
     "data": {
      "text/latex": [
       "$$ a_{n} =1 + 2 \\pi$$"
      ],
      "text/plain": [
       "<IPython.core.display.Latex object>"
      ]
     },
     "metadata": {},
     "output_type": "display_data"
    },
    {
     "data": {
      "text/latex": [
       "$$ b_{n} =0$$"
      ],
      "text/plain": [
       "<IPython.core.display.Latex object>"
      ]
     },
     "metadata": {},
     "output_type": "display_data"
    }
   ],
   "source": [
    "#Computamos la serie de Fourier\n",
    "F = fourier_series(f, (x, -(T/2), T/2));\n",
    "\n",
    "a0 = F.a0 #Extraemos a0 \n",
    "\n",
    "an = 0 if F.an.formula == 0 else depurate(simplify((1/pi)*(F.an.formula.args[1].args[1].args[0]))) #Extraemos an\n",
    "\n",
    "bn = 0 if F.bn.formula == 0 else depurate(simplify((1/pi)*(F.bn.formula.args[1].args[1].args[0]))) #Extraemos bn\n",
    "\n",
    "display(Latex( '$$ a_{0} ='+latex(a0)+'$$'))\n",
    "display(Latex( '$$ a_{n} ='+latex(an)+'$$'))\n",
    "display(Latex( '$$ b_{n} ='+latex(bn)+'$$'))"
   ]
  },
  {
   "cell_type": "markdown",
   "metadata": {},
   "source": [
    "## Polinomio trigonométrico"
   ]
  },
  {
   "cell_type": "code",
   "execution_count": 22,
   "metadata": {},
   "outputs": [
    {
     "data": {
      "application/vnd.jupyter.widget-view+json": {
       "model_id": "42199e484e6e4b7d9a8b3f30b809d5c8",
       "version_major": 2,
       "version_minor": 0
      },
      "text/plain": [
       "interactive(children=(IntSlider(value=10, description='N', max=20, min=1), Button(description='Run Interact', …"
      ]
     },
     "metadata": {},
     "output_type": "display_data"
    }
   ],
   "source": [
    "interactive_plot = interact_manual(displayOutput, N=(1, 20, 1) )"
   ]
  },
  {
   "cell_type": "markdown",
   "metadata": {},
   "source": [
    "## Error cuadrático mínimo"
   ]
  },
  {
   "cell_type": "code",
   "execution_count": null,
   "metadata": {},
   "outputs": [],
   "source": []
  }
 ],
 "metadata": {
  "kernelspec": {
   "display_name": "Python 3",
   "language": "python",
   "name": "python3"
  },
  "language_info": {
   "codemirror_mode": {
    "name": "ipython",
    "version": 3
   },
   "file_extension": ".py",
   "mimetype": "text/x-python",
   "name": "python",
   "nbconvert_exporter": "python",
   "pygments_lexer": "ipython3",
   "version": "3.6.5"
  },
  "widgets": {
   "application/vnd.jupyter.widget-state+json": {
    "state": {
     "0378dac9a4644e0f88b3b0fd54a414ba": {
      "model_module": "jupyter-js-widgets",
      "model_module_version": "~2.1.4",
      "model_name": "LayoutModel",
      "state": {
       "_model_module_version": "~2.1.4",
       "_view_module_version": "~2.1.4"
      }
     },
     "1008f8de601f4de180030ffc48fad799": {
      "model_module": "jupyter-js-widgets",
      "model_module_version": "~2.1.4",
      "model_name": "LayoutModel",
      "state": {
       "_model_module_version": "~2.1.4",
       "_view_module_version": "~2.1.4"
      }
     },
     "356bbe1c15eb4603ad9584acb4cfcd4e": {
      "model_module": "jupyter-js-widgets",
      "model_module_version": "~2.1.4",
      "model_name": "ButtonStyleModel",
      "state": {
       "_model_module_version": "~2.1.4",
       "_view_module_version": "~2.1.4"
      }
     },
     "99841fb4d8d24525b1202d8d7d71c7ec": {
      "model_module": "jupyter-js-widgets",
      "model_module_version": "~2.1.4",
      "model_name": "VBoxModel",
      "state": {
       "_dom_classes": [
        "widget-interact"
       ],
       "_model_module_version": "~2.1.4",
       "_view_module_version": "~2.1.4",
       "children": [
        "IPY_MODEL_b321b1256e3240b0b27b4582a1171152",
        "IPY_MODEL_d1950c3451514a069780ef9b61c6e18c",
        "IPY_MODEL_ea553125d2944b93a19c2242e4a947c3"
       ],
       "layout": "IPY_MODEL_0378dac9a4644e0f88b3b0fd54a414ba"
      }
     },
     "a943287df45e428d9451b15c88749f6e": {
      "model_module": "jupyter-js-widgets",
      "model_module_version": "~2.1.4",
      "model_name": "LayoutModel",
      "state": {
       "_model_module_version": "~2.1.4",
       "_view_module_version": "~2.1.4"
      }
     },
     "ac39c7a406544aba97710122db8062ce": {
      "model_module": "jupyter-js-widgets",
      "model_module_version": "~2.1.4",
      "model_name": "LayoutModel",
      "state": {
       "_model_module_version": "~2.1.4",
       "_view_module_version": "~2.1.4"
      }
     },
     "b321b1256e3240b0b27b4582a1171152": {
      "model_module": "jupyter-js-widgets",
      "model_module_version": "~2.1.4",
      "model_name": "IntSliderModel",
      "state": {
       "_model_module_version": "~2.1.4",
       "_view_module_version": "~2.1.4",
       "description": "N",
       "layout": "IPY_MODEL_a943287df45e428d9451b15c88749f6e",
       "max": 20,
       "min": 1,
       "style": "IPY_MODEL_f8c762ab819b43acbf473dad184ff1da",
       "value": 10
      }
     },
     "d1950c3451514a069780ef9b61c6e18c": {
      "model_module": "jupyter-js-widgets",
      "model_module_version": "~2.1.4",
      "model_name": "ButtonModel",
      "state": {
       "_model_module_version": "~2.1.4",
       "_view_module_version": "~2.1.4",
       "description": "Run Interact",
       "layout": "IPY_MODEL_1008f8de601f4de180030ffc48fad799",
       "style": "IPY_MODEL_356bbe1c15eb4603ad9584acb4cfcd4e"
      }
     },
     "ea553125d2944b93a19c2242e4a947c3": {
      "model_module": "jupyter-js-widgets",
      "model_module_version": "~2.1.4",
      "model_name": "OutputModel",
      "state": {
       "_dom_classes": [],
       "_model_module": "jupyter-js-widgets",
       "_model_module_version": "~2.1.4",
       "_view_module": "jupyter-js-widgets",
       "_view_module_version": "~2.1.4",
       "layout": "IPY_MODEL_ac39c7a406544aba97710122db8062ce",
       "msg_throttle": 1
      }
     },
     "f8c762ab819b43acbf473dad184ff1da": {
      "model_module": "jupyter-js-widgets",
      "model_module_version": "~2.1.4",
      "model_name": "SliderStyleModel",
      "state": {
       "_model_module_version": "~2.1.4",
       "_view_module_version": "~2.1.4"
      }
     }
    },
    "version_major": 1,
    "version_minor": 0
   }
  }
 },
 "nbformat": 4,
 "nbformat_minor": 2
}
