{
 "cells": [
  {
   "cell_type": "markdown",
   "metadata": {},
   "source": [
    "# Aproximación trigonométrica"
   ]
  },
  {
   "cell_type": "markdown",
   "metadata": {},
   "source": [
    "## Dependencias"
   ]
  },
  {
   "cell_type": "code",
   "execution_count": 1,
   "metadata": {},
   "outputs": [],
   "source": [
    "from IPython.display import Latex\n",
    "from sympy import *;\n",
    "from sympy.interactive import printing;\n",
    "from sympy.plotting import plot;\n",
    "from sympy.abc import x, z;\n",
    "from ipywidgets import interactive, interact_manual;\n",
    "\n",
    "printing.init_printing(use_latex=True);"
   ]
  },
  {
   "cell_type": "markdown",
   "metadata": {},
   "source": [
    "## Parámetros"
   ]
  },
  {
   "cell_type": "code",
   "execution_count": 3,
   "metadata": {},
   "outputs": [],
   "source": [
    "#Período\n",
    "T = 2*pi\n",
    "n = Symbol('n')"
   ]
  },
  {
   "cell_type": "code",
   "execution_count": 19,
   "metadata": {},
   "outputs": [
    {
     "data": {
      "image/png": "[encoded data removed]",
      "text/latex": [
       "$$0$$"
      ],
      "text/plain": [
       "0"
      ]
     },
     "metadata": {},
     "output_type": "display_data"
    },
    {
     "data": {
      "image/png": "[encoded data removed]",
      "text/latex": [
       "$$- \\frac{2 \\pi^{4}}{n} \\cos{\\left (n \\pi \\right )} + \\frac{10 \\pi^{3}}{n^{2}} \\sin{\\left (n \\pi \\right )} + \\frac{40 \\pi^{2}}{n^{3}} \\cos{\\left (n \\pi \\right )} - \\frac{120 \\pi}{n^{4}} \\sin{\\left (n \\pi \\right )} - \\frac{240}{n^{5}} \\cos{\\left (n \\pi \\right )} + \\frac{240}{n^{6} \\pi} \\sin{\\left (n \\pi \\right )}$$"
      ],
      "text/plain": [
       "     4                3                2                                      \n",
       "  2⋅π ⋅cos(n⋅π)   10⋅π ⋅sin(n⋅π)   40⋅π ⋅cos(n⋅π)   120⋅π⋅sin(n⋅π)   240⋅cos(n\n",
       "- ───────────── + ────────────── + ────────────── - ────────────── - ─────────\n",
       "        n                2                3                4               5  \n",
       "                        n                n                n               n   \n",
       "\n",
       "                  \n",
       "⋅π)   240⋅sin(n⋅π)\n",
       "─── + ────────────\n",
       "           6      \n",
       "          n ⋅π    "
      ]
     },
     "metadata": {},
     "output_type": "display_data"
    },
    {
     "name": "stdout",
     "output_type": "stream",
     "text": [
      "Add(Mul(Integer(-1), Integer(2), Pow(Dummy('n', dummy_index=5142697), Integer(-1)), Pow(pi, Integer(4)), cos(Mul(Dummy('n', dummy_index=5142697), pi))), Mul(Integer(10), Pow(Dummy('n', dummy_index=5142697), Integer(-2)), Pow(pi, Integer(3)), sin(Mul(Dummy('n', dummy_index=5142697), pi))), Mul(Integer(40), Pow(Dummy('n', dummy_index=5142697), Integer(-3)), Pow(pi, Integer(2)), cos(Mul(Dummy('n', dummy_index=5142697), pi))), Mul(Integer(-1), Integer(120), Pow(Dummy('n', dummy_index=5142697), Integer(-4)), pi, sin(Mul(Dummy('n', dummy_index=5142697), pi))), Mul(Integer(-1), Integer(240), Pow(Dummy('n', dummy_index=5142697), Integer(-5)), cos(Mul(Dummy('n', dummy_index=5142697), pi))), Mul(Integer(240), Pow(Dummy('n', dummy_index=5142697), Integer(-6)), Pow(pi, Integer(-1)), sin(Mul(Dummy('n', dummy_index=5142697), pi))))\n"
     ]
    },
    {
     "data": {
      "application/vnd.jupyter.widget-view+json": {
       "model_id": "081f5359b64649d5b9d04f45b494217c"
      }
     },
     "metadata": {},
     "output_type": "display_data"
    }
   ],
   "source": [
    "F = fourier_series(x**5, (x, -pi, pi));\n",
    "\n",
    "#Extraemos an\n",
    "an = 0 if F.an.formula == 0 else simplify((1/pi)*(F.an.formula.args[1].args[1].args[0]))\n",
    "display(an)\n",
    "\n",
    "\n",
    "#Extraemos bn\n",
    "bn = 0 if F.bn.formula == 0 else simplify((1/pi)*(F.bn.formula.args[1].args[1].args[0]))  \n",
    "display(bn)\n",
    "print(srepr(bn))\n",
    "\n",
    "def f(N):\n",
    "    p1 = simplify(F.truncate(n=N))\n",
    "    p = plot(x**5, p1, (x, -pi, pi), show = False)\n",
    "    p[0].line_color='r';\n",
    "    p.show()\n",
    "    display(Latex('$T_{'+ str(N) +'} (x) = '+latex(p1)+'$'))\n",
    "    \n",
    "\n",
    "    \n",
    "interactive_plot = interact_manual(f, N=(1, 20, 1) )\n",
    "interactive_plot;\n",
    "\n"
   ]
  },
  {
   "cell_type": "code",
   "execution_count": 30,
   "metadata": {},
   "outputs": [
    {
     "name": "stdout",
     "output_type": "stream",
     "text": [
      "Add(Mul(Integer(-1), Integer(2), Pow(Dummy('n', dummy_index=5142697), Integer(-1)), Pow(pi, Integer(5)), cos(Mul(Dummy('n', dummy_index=5142697), pi))), Mul(Integer(10), Pow(Dummy('n', dummy_index=5142697), Integer(-2)), Pow(pi, Integer(4)), sin(Mul(Dummy('n', dummy_index=5142697), pi))), Mul(Integer(40), Pow(Dummy('n', dummy_index=5142697), Integer(-3)), Pow(pi, Integer(3)), cos(Mul(Dummy('n', dummy_index=5142697), pi))), Mul(Integer(-1), Integer(120), Pow(Dummy('n', dummy_index=5142697), Integer(-4)), Pow(pi, Integer(2)), sin(Mul(Dummy('n', dummy_index=5142697), pi))), Mul(Integer(-1), Integer(240), Pow(Dummy('n', dummy_index=5142697), Integer(-5)), pi, cos(Mul(Dummy('n', dummy_index=5142697), pi))), Mul(Integer(240), Pow(Dummy('n', dummy_index=5142697), Integer(-6)), sin(Mul(Dummy('n', dummy_index=5142697), pi))))\n",
      "(0, Integer(0), Mul(Integer(-1), Integer(240), Pow(Integer(-1), Symbol('n')), Pow(Dummy('n', dummy_index=5142697), Integer(-5)), pi), Integer(0), Mul(Integer(-1), Integer(2), Pow(Integer(-1), Symbol('n')), Pow(Dummy('n', dummy_index=5142697), Integer(-1)), Pow(pi, Integer(5))), Integer(0), Mul(Integer(40), Pow(Integer(-1), Symbol('n')), Pow(Dummy('n', dummy_index=5142697), Integer(-3)), Pow(pi, Integer(3))))\n"
     ]
    },
    {
     "data": {
      "image/png": "[encoded data removed]",
      "text/latex": [
       "$$- \\frac{2 \\left(-1\\right)^{n}}{n} \\pi^{5} + \\frac{40 \\left(-1\\right)^{n}}{n^{3}} \\pi^{3} - \\frac{240 \\pi}{n^{5}} \\left(-1\\right)^{n}$$"
      ],
      "text/plain": [
       "        n  5          n  3           n  \n",
       "  2⋅(-1) ⋅π    40⋅(-1) ⋅π    240⋅(-1) ⋅π\n",
       "- ────────── + ─────────── - ───────────\n",
       "      n              3             5    \n",
       "                    n             n     "
      ]
     },
     "metadata": {},
     "output_type": "display_data"
    }
   ],
   "source": [
    "expr1 = sin(n*x)\n",
    "expr2 = cos(n*x)\n",
    "\n",
    "def pre(expr):\n",
    "    print(expr)\n",
    "    if(matches_sin(expr)):\n",
    "        print('We got one sine exp')\n",
    "        expr = Integer(0)\n",
    "    if(matches_cos(expr)):\n",
    "        print('We got one cosine exp')\n",
    "        expr = Pow(Integer(-1), Symbol('n'))\n",
    "    for arg in expr.args:\n",
    "        pre(arg)   \n",
    "\n",
    "def matches_sin(y):\n",
    "    if(y.func == sin):\n",
    "        if(y.args[0].func == Mul):\n",
    "            if(len(y.args[0].args) == 2 and (y.args[0].args[0] == pi or y.args[0].args[1] == pi )):\n",
    "                return True\n",
    "    else:\n",
    "        return False\n",
    "               \n",
    "def matches_cos(y):\n",
    "    if(y.func == cos):\n",
    "        if(y.args[0].func == Mul):\n",
    "            if(len(y.args[0].args) == 2 and (y.args[0].args[0] == pi or y.args[0].args[1] == pi )):\n",
    "                return True\n",
    "    else:        \n",
    "        return False        \n",
    "                \n",
    "\n",
    "expr = F.bn.formula.args[1].args[1].args[0]\n",
    "print(srepr(expr))\n",
    "\n",
    "#for arg in preorder_traversal(expr):\n",
    "#    if(matches_sin(arg)):\n",
    "#        arg.subs(arg.args, Integer(0))\n",
    "#    if(matches_cos(arg)): \n",
    "#        arg.subs(arg.args, Pow(Integer(-1), Symbol('n')))\n",
    "\n",
    "#print(srepr(expr))\n",
    "\n",
    "\n",
    "t = (0, ) #Este se lo vamos a pasar a un objeto Add\n",
    "for i in range(0, len(expr.args)): #Para cada uno de los objetos Mul en Add\n",
    "    mul = (1, ) #Aquí vamos a construir cada mul\n",
    "    for j in range(0, len(expr.args[i].args)):\n",
    "        if matches_sin(expr.args[i].args[j]):\n",
    "            mul = mul + (Integer(0), )\n",
    "        if matches_cos(expr.args[i].args[j]):\n",
    "            mul = mul + (Pow(Integer(-1), Symbol('n')), )\n",
    "        else:\n",
    "            mul = mul + (expr.args[i].args[j], )\n",
    "    t = t + (Mul(*mul), )        \n",
    "print(srepr(t))\n",
    "display(Add(*t))\n",
    "  "
   ]
  },
  {
   "cell_type": "code",
   "execution_count": null,
   "metadata": {},
   "outputs": [],
   "source": []
  },
  {
   "cell_type": "code",
   "execution_count": null,
   "metadata": {},
   "outputs": [],
   "source": []
  }
 ],
 "metadata": {
  "kernelspec": {
   "display_name": "Python 3",
   "language": "python",
   "name": "python3"
  },
  "language_info": {
   "codemirror_mode": {
    "name": "ipython",
    "version": 3
   },
   "file_extension": ".py",
   "mimetype": "text/x-python",
   "name": "python",
   "nbconvert_exporter": "python",
   "pygments_lexer": "ipython3",
   "version": "3.6.5"
  }
 },
 "nbformat": 4,
 "nbformat_minor": 2
}
