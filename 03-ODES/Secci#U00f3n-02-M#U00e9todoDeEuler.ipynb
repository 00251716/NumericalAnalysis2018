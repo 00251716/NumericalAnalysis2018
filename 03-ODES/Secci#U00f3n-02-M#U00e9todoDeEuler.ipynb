{
 "cells": [
  {
   "cell_type": "markdown",
   "metadata": {},
   "source": [
    "# Método de Euler\n",
    "\n",
    "\n",
    "## Discusión\n",
    "\n",
    "Este método surge a partir de una expansión de Taylor de segundo grado...\n"
   ]
  },
  {
   "cell_type": "markdown",
   "metadata": {},
   "source": [
    "## Implementación\n",
    "\n",
    "A continuación se implementa el método de Euler"
   ]
  },
  {
   "cell_type": "code",
   "execution_count": null,
   "metadata": {},
   "outputs": [],
   "source": [
    "%matplotlib inline\n",
    "import matplotlib.pyplot as plt\n",
    "from sympy import symbols, Function, sympify\n",
    "from ipywidgets import widgets\n",
    "\n",
    "#Definimos las variables a utilizar\n",
    "t, y = symbols('t y')\n",
    "f = Function('f')(t, y)"
   ]
  },
  {
   "cell_type": "markdown",
   "metadata": {},
   "source": [
    "## Parámetros del problema"
   ]
  },
  {
   "cell_type": "code",
   "execution_count": null,
   "metadata": {},
   "outputs": [],
   "source": [
    "#definiendo la expresión\n",
    "f = sympify(input(\"Ingrese la expresión f en términos de t, y:  \"))\n",
    "\n",
    "a = 0.0 #Extremo izquierdo de intervalo\n",
    "b = 2.0 #Extremo derecho del intervalo\n",
    "\n",
    "y0 = 0.5 #condición inicial\n",
    "\n",
    "n = 10 #puntos de malla"
   ]
  },
  {
   "cell_type": "markdown",
   "metadata": {},
   "source": [
    "## Algoritmo"
   ]
  },
  {
   "cell_type": "code",
   "execution_count": null,
   "metadata": {},
   "outputs": [],
   "source": [
    "h = (b-a)/n #primero determinamos el tamaño de paso\n",
    "t1 = a\n",
    "w = y0\n",
    "print((t1, w))\n",
    "\n",
    "for i in range(1, n+1):\n",
    "    w = w + h*f.subs({t:t1, y:w})\n",
    "    t1 = a + i*h\n",
    "    print((t1, w))\n",
    "    \n",
    "text = widgets.Text()\n",
    "display(text)"
   ]
  },
  {
   "cell_type": "code",
   "execution_count": null,
   "metadata": {},
   "outputs": [],
   "source": []
  }
 ],
 "metadata": {
  "kernelspec": {
   "display_name": "Python 3",
   "language": "python",
   "name": "python3"
  },
  "language_info": {
   "codemirror_mode": {
    "name": "ipython",
    "version": 3
   },
   "file_extension": ".py",
   "mimetype": "text/x-python",
   "name": "python",
   "nbconvert_exporter": "python",
   "pygments_lexer": "ipython3",
   "version": "3.6.5"
  }
 },
 "nbformat": 4,
 "nbformat_minor": 2
}
