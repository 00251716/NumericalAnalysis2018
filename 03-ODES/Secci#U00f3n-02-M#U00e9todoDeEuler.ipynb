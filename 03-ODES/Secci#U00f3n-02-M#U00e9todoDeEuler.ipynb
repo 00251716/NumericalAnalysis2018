{
 "cells": [
  {
   "cell_type": "markdown",
   "metadata": {},
   "source": [
    "# Método de Euler\n",
    "\n",
    "\n",
    "## Discusión\n",
    "\n",
    "Este método surge a partir de una expansión de Taylor de segundo grado...\n"
   ]
  },
  {
   "cell_type": "markdown",
   "metadata": {},
   "source": [
    "## Implementación\n",
    "\n",
    "A continuación se implementa el método de Euler"
   ]
  },
  {
   "cell_type": "markdown",
   "metadata": {},
   "source": [
    "## Parámetros del problema"
   ]
  },
  {
   "cell_type": "code",
   "execution_count": 3,
   "metadata": {},
   "outputs": [],
   "source": [
    "%matplotlib inline\n",
    "import matplotlib.pyplot as plt\n",
    "\n",
    "#definiendo la expresión\n",
    "\n",
    "def f(t, y):\n",
    "    return y - t**2.0 + 1.0\n",
    "\n",
    "a = 0.0 #Extremo izquierdo de intervalo\n",
    "b = 2.0 #Extremo derecho del intervalo\n",
    "\n",
    "y0 = 0.5 #condición inicial\n",
    "\n",
    "n = 10 #puntos de malla"
   ]
  },
  {
   "cell_type": "markdown",
   "metadata": {},
   "source": [
    "## Algoritmo"
   ]
  },
  {
   "cell_type": "code",
   "execution_count": 2,
   "metadata": {},
   "outputs": [
    {
     "name": "stdout",
     "output_type": "stream",
     "text": [
      "(0.0, 0.5)\n",
      "(0.2, 0.8)\n",
      "(0.4, 1.1520000000000001)\n",
      "(0.6000000000000001, 1.5504000000000002)\n",
      "(0.8, 1.9884800000000002)\n",
      "(1.0, 2.4581760000000004)\n",
      "(1.2000000000000002, 2.9498112000000005)\n",
      "(1.4000000000000001, 3.4517734400000006)\n",
      "(1.6, 3.9501281280000007)\n",
      "(1.8, 4.428153753600001)\n",
      "(2.0, 4.865784504320001)\n"
     ]
    }
   ],
   "source": [
    "t = []\n",
    "w = []\n",
    "\n",
    "h = (b-a)/n #primero determinamos el tamaño de paso\n",
    "t = a\n",
    "w = y0\n",
    "print((t, w))\n",
    "\n",
    "for i in range(1, n+1):\n",
    "    w = w + h*f(t, w)\n",
    "    t = a + i*h\n",
    "    print((t, w))"
   ]
  },
  {
   "cell_type": "code",
   "execution_count": null,
   "metadata": {},
   "outputs": [],
   "source": []
  },
  {
   "cell_type": "code",
   "execution_count": null,
   "metadata": {},
   "outputs": [],
   "source": []
  }
 ],
 "metadata": {
  "kernelspec": {
   "display_name": "Python 3",
   "language": "python",
   "name": "python3"
  },
  "language_info": {
   "codemirror_mode": {
    "name": "ipython",
    "version": 3
   },
   "file_extension": ".py",
   "mimetype": "text/x-python",
   "name": "python",
   "nbconvert_exporter": "python",
   "pygments_lexer": "ipython3",
   "version": "3.6.5"
  }
 },
 "nbformat": 4,
 "nbformat_minor": 2
}
