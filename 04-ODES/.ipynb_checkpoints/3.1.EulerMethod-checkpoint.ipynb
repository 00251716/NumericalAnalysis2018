{
 "cells": [
  {
   "cell_type": "markdown",
   "metadata": {},
   "source": [
    "# Método de Euler\n",
    "\n",
    "\n",
    "## Discusión\n",
    "\n",
    "Este método surge a partir de una expansión de Taylor de segundo grado...\n"
   ]
  },
  {
   "cell_type": "markdown",
   "metadata": {},
   "source": [
    "## Implementación\n",
    "\n",
    "A continuación se implementa el método de Euler"
   ]
  },
  {
   "cell_type": "code",
   "execution_count": 2,
   "metadata": {},
   "outputs": [],
   "source": [
    "%matplotlib inline\n",
    "import matplotlib.pyplot as plt\n",
    "from sympy import symbols, Function, sympify\n",
    "from ipywidgets import widgets\n",
    "\n",
    "#Definimos las variables a utilizar\n",
    "t, y = symbols('t y')\n",
    "f = Function('f')(t, y)"
   ]
  },
  {
   "cell_type": "markdown",
   "metadata": {},
   "source": [
    "## Parámetros del problema"
   ]
  },
  {
   "cell_type": "code",
   "execution_count": 3,
   "metadata": {},
   "outputs": [
    {
     "name": "stdout",
     "output_type": "stream",
     "text": [
      "Ingrese la expresión f en términos de t, y:  sin(t) - y\n"
     ]
    }
   ],
   "source": [
    "#definiendo la expresión\n",
    "f = sympify(input(\"Ingrese la expresión f en términos de t, y:  \"))\n",
    "\n",
    "a = 0.0 #Extremo izquierdo de intervalo\n",
    "b = 2.0 #Extremo derecho del intervalo\n",
    "\n",
    "y0 = 0.5 #condición inicial\n",
    "\n",
    "n = 10 #puntos de malla"
   ]
  },
  {
   "cell_type": "markdown",
   "metadata": {},
   "source": [
    "## Algoritmo"
   ]
  },
  {
   "cell_type": "code",
   "execution_count": 4,
   "metadata": {},
   "outputs": [
    {
     "name": "stdout",
     "output_type": "stream",
     "text": [
      "(0.0, 0.5)\n",
      "(0.2, 0.400000000000000)\n",
      "(0.4, 0.359733866159012)\n",
      "(0.6000000000000001, 0.365670761388940)\n",
      "(0.8, 0.405465103790159)\n",
      "(1.0, 0.467843301212032)\n",
      "(1.2000000000000002, 0.542568837931205)\n",
      "(1.4000000000000001, 0.620462887538409)\n",
      "(1.6, 0.693460256028419)\n",
      "(1.8, 0.754682925431036)\n",
      "(2.0, 0.798515866520468)\n"
     ]
    }
   ],
   "source": [
    "h = (b-a)/n #primero determinamos el tamaño de paso\n",
    "t1 = a\n",
    "w = y0\n",
    "print((t1, w))\n",
    "\n",
    "for i in range(1, n+1):\n",
    "    w = w + h*f.subs({t:t1, y:w})\n",
    "    t1 = a + i*h\n",
    "    print((t1, w))\n"
   ]
  },
  {
   "cell_type": "code",
   "execution_count": 4,
   "metadata": {},
   "outputs": [
    {
     "name": "stderr",
     "output_type": "stream",
     "text": [
      "Widget Javascript not detected.  It may not be installed or enabled properly.\n"
     ]
    },
    {
     "data": {
      "application/vnd.jupyter.widget-view+json": {
       "model_id": "b466294d484142678131d02963452951"
      }
     },
     "metadata": {},
     "output_type": "display_data"
    }
   ],
   "source": [
    "text = widgets.Text()\n",
    "display(text)\n",
    "\n",
    "def handle_submit(sender):\n",
    "    print(text.value)\n",
    "\n",
    "text.on_submit(handle_submit)    "
   ]
  },
  {
   "cell_type": "code",
   "execution_count": null,
   "metadata": {},
   "outputs": [],
   "source": []
  }
 ],
 "metadata": {
  "kernelspec": {
   "display_name": "Python 3",
   "language": "python",
   "name": "python3"
  },
  "language_info": {
   "codemirror_mode": {
    "name": "ipython",
    "version": 3
   },
   "file_extension": ".py",
   "mimetype": "text/x-python",
   "name": "python",
   "nbconvert_exporter": "python",
   "pygments_lexer": "ipython3",
   "version": "3.6.5"
  }
 },
 "nbformat": 4,
 "nbformat_minor": 2
}
