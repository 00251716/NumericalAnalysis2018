{
 "cells": [
  {
   "cell_type": "markdown",
   "metadata": {},
   "source": [
    "# Solución de problemas de valor inicial para EDOs\n",
    "\n",
    "\n",
    "Para deducir el método de Euler comenzamos suponiendo que el problema de valor inicial\n",
    "\n",
    "$$ y' = f(x, y) \\\\ y(a) = y_{0} $$\n",
    "\n",
    "tiene una única solución en un intervalo $[a, b]$, la cual denotamos por $y$. Deseamos aproximar $y$ en un conjunto finito de puntos en $[a, b]$ y estipulamos que estos puntos estarán uniformemente espaciados, por lo que seleccionamos un entero positivo $n$ y definimos el *tamaño de paso* como $h = \\frac{b- a}{n}$. Así, tomamos\n",
    "\n",
    "$$ x_{i} = a + ih $$\n",
    "\n",
    "para $i = 0, 1, 2, \\ldots , n$. Entonces tenemos que $x_{i+1} - x_{i} = h$ y denominamos a cada uno de estos $n+1$ puntos como *puntos de malla*. Buscamos generar $n + 1$ aproximaciones $y_{i}$ a los valores $y(x_{i})$. Si añadimos la suposición que $y \\in C^{2} [a, b]$, podemos aplicar el teorema de Taylor a $y$ tomando como centro un punto de malla $x_{i}$ arbitrario. Entonces para todo $x \\in [a, b]$ tenemos que\n",
    "\n",
    "$$ y(x) = y(x_{i}) + y'(x_{i})(x - x_{i}) + \\frac{y''( \\xi _{i} )}{2} (x - x_{i})^{2} $$\n",
    "\n",
    "donde $ \\xi _{i} $ se encuentra entre $x$ y $x_{i}$. Ahora evaluemos en el punto de malla $x_{i+1}$ \n",
    "\n",
    "$$ y(x_{i+1}) = y(x_{i}) + y'(x_{i})(x_{i+1} - x_{i}) + \\frac{y''( \\xi _{i} )}{2} (x_{i+1} - x_{i})^{2} $$\n",
    "\n",
    "de lo que podemos deducir que \n",
    "\n",
    "$$ y(x_{i+1}) = y(x_{i}) + f(x_{i}, y(x_{i}))h +  O ( h^{2} ) $$\n",
    "\n",
    "Si descartamos el término $ O ( h^{2} ) $ podemos generar $n+1$ aproximaciones $y_{i+1}  \\approx y_{i} + f(x_{i}, y_{i})h $ comenzando con la condición inicial $y_{0}$."
   ]
  },
  {
   "cell_type": "markdown",
   "metadata": {},
   "source": [
    "### Dependencias y declaraciones comunes"
   ]
  },
  {
   "cell_type": "code",
   "execution_count": 70,
   "metadata": {},
   "outputs": [],
   "source": [
    "from sympy import *\n",
    "from ipywidgets import widgets\n",
    "\n",
    "from IPython.display import display, display_html, HTML, Latex\n",
    "import numpy as np\n",
    "\n",
    "#Definimos las variables a utilizar\n",
    "x, y = symbols('x y')\n",
    "f = Function('f')(x, y)\n",
    "sol = Function('sol')(x)\n",
    "\n",
    "# Método para imprimir la información en forma de tabla\n",
    "def printTable(columns, data):\n",
    "    base_table = ( '<table class=\"table-bordered table-responsive\"><thead><tr>{}'\n",
    "             '</tr></thead><tbody><tr>{}</tr>'\n",
    "             '</tbody></table>'\n",
    "    ).format(\n",
    "        '<th style=\"width:40px; text-align:center\">{}</th>'.format(\n",
    "            '</th><th style=\"text-align:center\">'.join(j for j in columns)),\n",
    "        '</tr><tr>'.join(\n",
    "            '<td style=\"text-align:center;\">{}</td>'.format('</td><td>'.join(j for j in row)) for row in data\n",
    "        )\n",
    "    )\n",
    "    display(HTML(base_table))"
   ]
  },
  {
   "cell_type": "markdown",
   "metadata": {},
   "source": [
    "### Parámetros"
   ]
  },
  {
   "cell_type": "code",
   "execution_count": 73,
   "metadata": {},
   "outputs": [
    {
     "name": "stdout",
     "output_type": "stream",
     "text": [
      "Ingrese la expresión f en términos de x, y:  y - x**2 +1\n",
      "Ingrese la solución analítica: (x + 1)**2 -0.5*exp(x)\n"
     ]
    },
    {
     "data": {
      "text/latex": [
       "$$ y' = - x^{2} + y + 1 $$"
      ],
      "text/plain": [
       "<IPython.core.display.Latex object>"
      ]
     },
     "metadata": {},
     "output_type": "display_data"
    }
   ],
   "source": [
    "# Solicitando la función a evaluar\n",
    "while True:\n",
    "    try:\n",
    "        f = sympify(input(\"Ingrese la expresión f en términos de x, y:  \"))\n",
    "        sol = sympify(input(\"Ingrese la solución analítica: \"))\n",
    "        break\n",
    "    except SympifyError:\n",
    "        print(\"¡Ups! Parece que la función no fue ingresada correctamente. Intente de nuevo.\")\n",
    "display(Latex(\"$$ y' = \" + latex(f) + \" $$\"))"
   ]
  },
  {
   "cell_type": "code",
   "execution_count": 74,
   "metadata": {},
   "outputs": [
    {
     "name": "stdout",
     "output_type": "stream",
     "text": [
      "Ingrese el límite inferior del intervalo (a): 0\n",
      "Ingrese el límite superior del intervalo (b): 2\n",
      "Ingrese la condición inicial (y0): 0.5\n",
      "Ingrese el tamaño del paso(h): 0.1\n"
     ]
    }
   ],
   "source": [
    "# Solicitando los demás valores\n",
    "while True:\n",
    "    try:\n",
    "        a = float(input(\"Ingrese el límite inferior del intervalo (a): \"))\n",
    "        b = float(input(\"Ingrese el límite superior del intervalo (b): \"))\n",
    "        y0 = float(input(\"Ingrese la condición inicial (y0): \"))\n",
    "        h = float(input(\"Ingrese el tamaño del paso(h): \"))\n",
    "        break\n",
    "    except ValueError:\n",
    "        print(\"El valor ingresado no es un número. Intente de nuevo.\")"
   ]
  },
  {
   "cell_type": "markdown",
   "metadata": {},
   "source": [
    "### Método de Euler"
   ]
  },
  {
   "cell_type": "code",
   "execution_count": 77,
   "metadata": {},
   "outputs": [
    {
     "data": {
      "image/png": "[encoded data removed]",
      "text/plain": [
       "<Figure size 648x648 with 1 Axes>"
      ]
     },
     "metadata": {},
     "output_type": "display_data"
    }
   ],
   "source": [
    "import matplotlib.pyplot as plt;\n",
    "fig, ax = plt.subplots(figsize=(9, 9));\n",
    "\n",
    "#Definimos las columnas que contendrá la tabla    \n",
    "columns = [\"i\", \"xi\", \"yi\", \"y(xi)\", \"Eabs\"]\n",
    "data = []\n",
    "\n",
    "xvalues = []\n",
    "yvalues = []\n",
    "\n",
    "i=0\n",
    "n = int((b-a)/h) #determinamos los puntos de malla -1\n",
    "t = a\n",
    "w = y0\n",
    "xvalues.append(t)\n",
    "yvalues.append(w)\n",
    "val = sol.subs(x, t).evalf()\n",
    "e_abs = abs(w - val)\n",
    "\n",
    "aux = [str(i), str(t), str(w), str(val), str(e_abs)]\n",
    "data.append(aux)\n",
    "\n",
    "for i in range(1, n+1):\n",
    "    w = w + h*f.subs({x:t, y:w})\n",
    "    t = a + i*h\n",
    "    val = sol.subs(x, t).evalf()\n",
    "    e_abs = abs(w - val)\n",
    "    aux = [str(i), str(t), str(w), str(val), str(e_abs)]\n",
    "    data.append(aux)\n",
    "    xvalues.append(t)\n",
    "    yvalues.append(w)\n",
    "       \n",
    "lambdaf = lambdify(x, sol);\n",
    "ax.axhline(y=0, color=\"k\")\n",
    "ax.axvline(x=0, color=\"k\")\n",
    "xv = np.linspace(a , b  , 100)\n",
    "ax.plot(xv, lambdaf(xv), color='blue')\n",
    "plt.plot(xvalues, yvalues, color='red');\n",
    "plt.title(\"Azul: curva solución | Rojo: puntos de malla\");\n",
    "plt.grid();\n",
    "plt.show()"
   ]
  },
  {
   "cell_type": "code",
   "execution_count": 78,
   "metadata": {},
   "outputs": [
    {
     "data": {
      "text/html": [
       "<table class=\"table-bordered table-responsive\"><thead><tr><th style=\"width:40px; text-align:center\">i</th><th style=\"text-align:center\">xi</th><th style=\"text-align:center\">yi</th><th style=\"text-align:center\">y(xi)</th><th style=\"text-align:center\">Eabs</th></tr></thead><tbody><tr><td style=\"text-align:center;\">0</td><td>0.0</td><td>0.5</td><td>0.500000000000000</td><td>0</td></tr><tr><td style=\"text-align:center;\">1</td><td>0.1</td><td>0.650000000000000</td><td>0.657414540962176</td><td>0.00741454096217631</td></tr><tr><td style=\"text-align:center;\">2</td><td>0.2</td><td>0.814000000000000</td><td>0.829298620919915</td><td>0.0152986209199150</td></tr><tr><td style=\"text-align:center;\">3</td><td>0.30000000000000004</td><td>0.991400000000000</td><td>1.01507059621200</td><td>0.0236705962119985</td></tr><tr><td style=\"text-align:center;\">4</td><td>0.4</td><td>1.18154000000000</td><td>1.21408765117936</td><td>0.0325476511793645</td></tr><tr><td style=\"text-align:center;\">5</td><td>0.5</td><td>1.38369400000000</td><td>1.42563936464994</td><td>0.0419453646499359</td></tr><tr><td style=\"text-align:center;\">6</td><td>0.6000000000000001</td><td>1.59706340000000</td><td>1.64894059980475</td><td>0.0518771998047458</td></tr><tr><td style=\"text-align:center;\">7</td><td>0.7000000000000001</td><td>1.82076974000000</td><td>1.88312364626476</td><td>0.0623539062647620</td></tr><tr><td style=\"text-align:center;\">8</td><td>0.8</td><td>2.05384671400000</td><td>2.12722953575377</td><td>0.0733828217537664</td></tr><tr><td style=\"text-align:center;\">9</td><td>0.9</td><td>2.29523138540000</td><td>2.38019844442152</td><td>0.0849670590215248</td></tr><tr><td style=\"text-align:center;\">10</td><td>1.0</td><td>2.54375452394000</td><td>2.64085908577048</td><td>0.0971045618304776</td></tr><tr><td style=\"text-align:center;\">11</td><td>1.1</td><td>2.79812997633400</td><td>2.90791698802678</td><td>0.109787011692783</td></tr><tr><td style=\"text-align:center;\">12</td><td>1.2000000000000002</td><td>3.05694297396740</td><td>3.17994153863173</td><td>0.122998564664326</td></tr><tr><td style=\"text-align:center;\">13</td><td>1.3</td><td>3.31863727136414</td><td>3.45535166619038</td><td>0.136714394826237</td></tr><tr><td style=\"text-align:center;\">14</td><td>1.4000000000000001</td><td>3.58150099850055</td><td>3.73240001657766</td><td>0.150899018077109</td></tr><tr><td style=\"text-align:center;\">15</td><td>1.5</td><td>3.84365109835061</td><td>4.00915546483097</td><td>0.165504366480358</td></tr><tr><td style=\"text-align:center;\">16</td><td>1.6</td><td>4.10301620818567</td><td>4.28348378780244</td><td>0.180467579616773</td></tr><tr><td style=\"text-align:center;\">17</td><td>1.7000000000000002</td><td>4.35731782900424</td><td>4.55302630413640</td><td>0.195708475132163</td></tr><tr><td style=\"text-align:center;\">18</td><td>1.8</td><td>4.60404961190466</td><td>4.81517626779353</td><td>0.211126655888863</td></tr><tr><td style=\"text-align:center;\">19</td><td>1.9000000000000001</td><td>4.84045457309513</td><td>5.06705277886037</td><td>0.226598205765239</td></tr><tr><td style=\"text-align:center;\">20</td><td>2.0</td><td>5.06350003040464</td><td>5.30547195053467</td><td>0.241971920130034</td></tr></tbody></table>"
      ],
      "text/plain": [
       "<IPython.core.display.HTML object>"
      ]
     },
     "metadata": {},
     "output_type": "display_data"
    }
   ],
   "source": [
    "printTable(columns, data) "
   ]
  },
  {
   "cell_type": "code",
   "execution_count": null,
   "metadata": {},
   "outputs": [],
   "source": []
  }
 ],
 "metadata": {
  "kernelspec": {
   "display_name": "Python 3",
   "language": "python",
   "name": "python3"
  },
  "language_info": {
   "codemirror_mode": {
    "name": "ipython",
    "version": 3
   },
   "file_extension": ".py",
   "mimetype": "text/x-python",
   "name": "python",
   "nbconvert_exporter": "python",
   "pygments_lexer": "ipython3",
   "version": "3.6.5"
  }
 },
 "nbformat": 4,
 "nbformat_minor": 2
}
