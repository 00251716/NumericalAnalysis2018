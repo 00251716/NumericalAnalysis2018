{
 "cells": [
  {
   "cell_type": "markdown",
   "metadata": {},
   "source": [
    "# Solución de problemas de valor inicial para EDOs\n",
    "\n",
    "\n",
    "Para deducir el método de Euler comenzamos suponiendo que el problema de valor inicial\n",
    "\n",
    "$$ y' = f(x, y) \\\\ y(a) = y_{0} $$\n",
    "\n",
    "tiene una única solución en un intervalo $[a, b]$, la cual denotamos por $y$. Deseamos aproximar $y$ en un conjunto finito de puntos en $[a, b]$ y estipulamos que estos puntos estarán uniformemente espaciados, por lo que seleccionamos un entero positivo $n$ y definimos el *tamaño de paso* como $h = \\frac{b- a}{n}$. Así, tomamos\n",
    "\n",
    "$$ x_{i} = a + ih $$\n",
    "\n",
    "para $i = 0, 1, 2, \\ldots , n$. Entonces tenemos que $x_{i+1} - x_{i} = h$ y denominamos a cada uno de estos $n+1$ puntos como *puntos de malla*. Buscamos generar $n + 1$ aproximaciones $y_{i}$ a los valores $y(x_{i})$. Si añadimos la suposición que $y \\in C^{2} [a, b]$, podemos aplicar el teorema de Taylor a $y$ tomando como centro un punto de malla $x_{i}$ arbitrario. Entonces para todo $x \\in [a, b]$ tenemos que\n",
    "\n",
    "$$ y(x) = y(x_{i}) + y'(x_{i})(x - x_{i}) + \\frac{y''( \\xi _{i} )}{2} (x - x_{i})^{2} $$\n",
    "\n",
    "donde $ \\xi _{i} $ se encuentra entre $x$ y $x_{i}$. Ahora evaluemos en el punto de malla $x_{i+1}$ \n",
    "\n",
    "$$ y(x_{i+1}) = y(x_{i}) + y'(x_{i})(x_{i+1} - x_{i}) + \\frac{y''( \\xi _{i} )}{2} (x_{i+1} - x_{i})^{2} $$\n",
    "\n",
    "de lo que podemos deducir que \n",
    "\n",
    "$$ y(x_{i+1}) = y(x_{i}) + f(x_{i}, y(x_{i}))h +  O ( h^{2} ) $$\n",
    "\n",
    "Si descartamos el término $ O ( h^{2} ) $ podemos generar $n+1$ aproximaciones $y_{i+1}  \\approx y_{i} + f(x_{i}, y_{i})h $ comenzando con la condición inicial $y_{0}$."
   ]
  },
  {
   "cell_type": "markdown",
   "metadata": {},
   "source": [
    "### Dependencias y declaraciones comunes"
   ]
  },
  {
   "cell_type": "code",
   "execution_count": 6,
   "metadata": {},
   "outputs": [],
   "source": [
    "from sympy import *\n",
    "from ipywidgets import widgets\n",
    "\n",
    "from IPython.display import display, display_html, HTML, Latex\n",
    "import numpy as np\n",
    "\n",
    "#Definimos las variables a utilizar\n",
    "x, y = symbols('x y')\n",
    "f = Function('f')(x, y)\n",
    "sol = Function('sol')(x)\n",
    "\n",
    "# Método para imprimir la información en forma de tabla\n",
    "def printTable(columns, data):\n",
    "    base_table = ( '<table class=\"table-bordered table-responsive\"><thead><tr>{}'\n",
    "             '</tr></thead><tbody><tr>{}</tr>'\n",
    "             '</tbody></table>'\n",
    "    ).format(\n",
    "        '<th style=\"width:40px; text-align:center\">{}</th>'.format(\n",
    "            '</th><th style=\"text-align:center\">'.join(j for j in columns)),\n",
    "        '</tr><tr>'.join(\n",
    "            '<td style=\"text-align:center;\">{}</td>'.format('</td><td>'.join(j for j in row)) for row in data\n",
    "        )\n",
    "    )\n",
    "    display(HTML(base_table))"
   ]
  },
  {
   "cell_type": "markdown",
   "metadata": {},
   "source": [
    "### Parámetros"
   ]
  },
  {
   "cell_type": "code",
   "execution_count": 13,
   "metadata": {},
   "outputs": [
    {
     "name": "stdout",
     "output_type": "stream",
     "text": [
      "Ingrese la expresión f en términos de x, y:  cos(2*x) + sin(3*x)\n",
      "Ingrese la solución analítica: (1/2)*sin(2*x) - (1/3)*cos(3*x) + 4/3\n"
     ]
    },
    {
     "data": {
      "text/latex": [
       "$$ y' = \\sin{\\left (3 x \\right )} + \\cos{\\left (2 x \\right )} $$"
      ],
      "text/plain": [
       "<IPython.core.display.Latex object>"
      ]
     },
     "metadata": {},
     "output_type": "display_data"
    }
   ],
   "source": [
    "# Solicitando la función a evaluar\n",
    "while True:\n",
    "    try:\n",
    "        f = sympify(input(\"Ingrese la expresión f en términos de x, y:  \"))\n",
    "        sol = sympify(input(\"Ingrese la solución analítica: \"))\n",
    "        break\n",
    "    except SympifyError:\n",
    "        print(\"¡Ups! Parece que la función no fue ingresada correctamente. Intente de nuevo.\")\n",
    "display(Latex(\"$$ y' = \" + latex(f) + \" $$\"))"
   ]
  },
  {
   "cell_type": "code",
   "execution_count": 14,
   "metadata": {},
   "outputs": [
    {
     "name": "stdout",
     "output_type": "stream",
     "text": [
      "Ingrese el límite inferior del intervalo (a): 0\n",
      "Ingrese el límite superior del intervalo (b): 1\n",
      "Ingrese la condición inicial (y0): 1\n",
      "Ingrese el tamaño del paso(h): 0.25\n"
     ]
    }
   ],
   "source": [
    "# Solicitando los demás valores\n",
    "while True:\n",
    "    try:\n",
    "        a = float(input(\"Ingrese el límite inferior del intervalo (a): \"))\n",
    "        b = float(input(\"Ingrese el límite superior del intervalo (b): \"))\n",
    "        y0 = float(input(\"Ingrese la condición inicial (y0): \"))\n",
    "        h = float(input(\"Ingrese el tamaño del paso(h): \"))\n",
    "        break\n",
    "    except ValueError:\n",
    "        print(\"El valor ingresado no es un número. Intente de nuevo.\")"
   ]
  },
  {
   "cell_type": "markdown",
   "metadata": {},
   "source": [
    "### Método de Euler"
   ]
  },
  {
   "cell_type": "code",
   "execution_count": 15,
   "metadata": {},
   "outputs": [
    {
     "data": {
      "image/png": "[encoded data removed]",
      "text/plain": [
       "<Figure size 648x648 with 1 Axes>"
      ]
     },
     "metadata": {},
     "output_type": "display_data"
    }
   ],
   "source": [
    "import matplotlib.pyplot as plt;\n",
    "fig, ax = plt.subplots(figsize=(9, 9));\n",
    "\n",
    "#Definimos las columnas que contendrá la tabla    \n",
    "columns = [\"i\", \"xi\", \"yi\", \"y(xi)\", \"Eabs\"]\n",
    "data = []\n",
    "\n",
    "xvalueseuler = []\n",
    "yvalueseuler = []\n",
    "\n",
    "i=0\n",
    "n = int((b-a)/h) #determinamos los puntos de malla -1\n",
    "t = a\n",
    "w = y0\n",
    "xvalueseuler.append(t)\n",
    "yvalueseuler.append(w)\n",
    "val = sol.subs(x, t).evalf()\n",
    "e_abs = abs(w - val)\n",
    "\n",
    "aux = [str(i), str(t), str(w), str(val), str(e_abs)]\n",
    "data.append(aux)\n",
    "\n",
    "for i in range(1, n+1):\n",
    "    w = w + h*f.subs({x:t, y:w})\n",
    "    t = a + i*h\n",
    "    val = sol.subs(x, t).evalf()\n",
    "    e_abs = abs(w - val)\n",
    "    aux = [str(i), str(t), str(w), str(val), str(e_abs)]\n",
    "    data.append(aux)\n",
    "    xvalueseuler.append(t)\n",
    "    yvalueseuler.append(w)\n",
    "       \n",
    "lambdaf = lambdify(x, sol);\n",
    "#ax.axhline(y=0, color=\"k\")\n",
    "#ax.axvline(x=0, color=\"k\")\n",
    "xv = np.linspace(a , b  , 100)\n",
    "ax.plot(xv, lambdaf(xv), color='blue')\n",
    "plt.plot(xvalueseuler, yvalueseuler, color='red');\n",
    "plt.title(\"Azul: curva solución | Rojo: puntos de malla\");\n",
    "plt.grid();\n",
    "plt.show()"
   ]
  },
  {
   "cell_type": "code",
   "execution_count": 16,
   "metadata": {},
   "outputs": [
    {
     "data": {
      "text/html": [
       "<table class=\"table-bordered table-responsive\"><thead><tr><th style=\"width:40px; text-align:center\">i</th><th style=\"text-align:center\">xi</th><th style=\"text-align:center\">yi</th><th style=\"text-align:center\">y(xi)</th><th style=\"text-align:center\">Eabs</th></tr></thead><tbody><tr><td style=\"text-align:center;\">0</td><td>0.0</td><td>1.0</td><td>1.00000000000000</td><td>0</td></tr><tr><td style=\"text-align:center;\">1</td><td>0.25</td><td>1.25000000000000</td><td>1.32914981301083</td><td>0.0791498130108277</td></tr><tr><td style=\"text-align:center;\">2</td><td>0.5</td><td>1.63980533047843</td><td>1.73048975851471</td><td>0.0906844280362871</td></tr><tr><td style=\"text-align:center;\">3</td><td>0.75</td><td>2.02425465359648</td><td>2.04147203420961</td><td>0.0172173806131313</td></tr><tr><td style=\"text-align:center;\">4</td><td>1.0</td><td>2.23645725323538</td><td>2.11797954561299</td><td>0.118477707622393</td></tr></tbody></table>"
      ],
      "text/plain": [
       "<IPython.core.display.HTML object>"
      ]
     },
     "metadata": {},
     "output_type": "display_data"
    }
   ],
   "source": [
    "printTable(columns, data) "
   ]
  },
  {
   "cell_type": "markdown",
   "metadata": {},
   "source": [
    "### Método modificado de Euler"
   ]
  },
  {
   "cell_type": "code",
   "execution_count": 17,
   "metadata": {},
   "outputs": [
    {
     "data": {
      "image/png": "[encoded data removed]",
      "text/plain": [
       "<Figure size 648x648 with 1 Axes>"
      ]
     },
     "metadata": {},
     "output_type": "display_data"
    }
   ],
   "source": [
    "import matplotlib.pyplot as plt;\n",
    "fig, ax = plt.subplots(figsize=(9, 9));\n",
    "\n",
    "#Definimos las columnas que contendrá la tabla    \n",
    "columns = [\"i\", \"xi\", \"yi\", \"y(xi)\", \"Eabs\"]\n",
    "data = []\n",
    "\n",
    "xvaluesmeuler = []\n",
    "yvaluesmeuler = []\n",
    "\n",
    "i=0\n",
    "n = int((b-a)/h) #determinamos los puntos de malla -1\n",
    "t = a\n",
    "w = y0\n",
    "xvaluesmeuler.append(t)\n",
    "yvaluesmeuler.append(w)\n",
    "val = sol.subs(x, t).evalf()\n",
    "e_abs = abs(w - val)\n",
    "\n",
    "aux = [str(i), str(t), str(w), str(val), str(e_abs)]\n",
    "data.append(aux)\n",
    "\n",
    "for i in range(1, n+1):\n",
    "    w = w + (h/2)*( f.subs({x:t, y:w}) + f.subs({x:t+h, y: w + h*f.subs({x:t, y:w})})  )\n",
    "    t = a + i*h\n",
    "    val = sol.subs(x, t).evalf()\n",
    "    e_abs = abs(w - val)\n",
    "    aux = [str(i), str(t), str(w), str(val), str(e_abs)]\n",
    "    data.append(aux)\n",
    "    xvaluesmeuler.append(t)\n",
    "    yvaluesmeuler.append(w)\n",
    "       \n",
    "lambdaf = lambdify(x, sol);\n",
    "#ax.axhline(y=0, color=\"k\")\n",
    "#ax.axvline(x=0, color=\"k\")\n",
    "xv = np.linspace(a , b  , 100)\n",
    "ax.plot(xv, lambdaf(xv), color='blue')\n",
    "plt.plot(xvaluesmeuler, yvaluesmeuler, color='red');\n",
    "plt.title(\"Azul: curva solución | Rojo: puntos de malla\");\n",
    "plt.grid();\n",
    "plt.show()"
   ]
  },
  {
   "cell_type": "code",
   "execution_count": 18,
   "metadata": {},
   "outputs": [
    {
     "data": {
      "text/html": [
       "<table class=\"table-bordered table-responsive\"><thead><tr><th style=\"width:40px; text-align:center\">i</th><th style=\"text-align:center\">xi</th><th style=\"text-align:center\">yi</th><th style=\"text-align:center\">y(xi)</th><th style=\"text-align:center\">Eabs</th></tr></thead><tbody><tr><td style=\"text-align:center;\">0</td><td>0.0</td><td>1.0</td><td>1.00000000000000</td><td>0</td></tr><tr><td style=\"text-align:center;\">1</td><td>0.25</td><td>1.31990266523921</td><td>1.32914981301083</td><td>0.00924714777161428</td></tr><tr><td style=\"text-align:center;\">2</td><td>0.5</td><td>1.70702999203745</td><td>1.73048975851471</td><td>0.0234597664772629</td></tr><tr><td style=\"text-align:center;\">3</td><td>0.75</td><td>2.00535595341593</td><td>2.04147203420961</td><td>0.0361160807936787</td></tr><tr><td style=\"text-align:center;\">4</td><td>1.0</td><td>2.07707889967447</td><td>2.11797954561299</td><td>0.0409006459385171</td></tr></tbody></table>"
      ],
      "text/plain": [
       "<IPython.core.display.HTML object>"
      ]
     },
     "metadata": {},
     "output_type": "display_data"
    }
   ],
   "source": [
    "printTable(columns, data) "
   ]
  },
  {
   "cell_type": "markdown",
   "metadata": {},
   "source": [
    "### Método Runge-Kutta de orden 4"
   ]
  },
  {
   "cell_type": "code",
   "execution_count": null,
   "metadata": {},
   "outputs": [],
   "source": [
    "import matplotlib.pyplot as plt;\n",
    "fig, ax = plt.subplots(figsize=(9, 9));\n",
    "\n",
    "#Definimos las columnas que contendrá la tabla    \n",
    "columns = [\"i\", \"xi\", \"yi\", \"y(xi)\", \"Eabs\"]\n",
    "data = []\n",
    "\n",
    "xvaluesmeuler = []\n",
    "yvaluesmeuler = []\n",
    "\n",
    "i=0\n",
    "n = int((b-a)/h) #determinamos los puntos de malla -1\n",
    "t = a\n",
    "w = y0\n",
    "xvaluesmeuler.append(t)\n",
    "yvaluesmeuler.append(w)\n",
    "val = sol.subs(x, t).evalf()\n",
    "e_abs = abs(w - val)\n",
    "\n",
    "aux = [str(i), str(t), str(w), str(val), str(e_abs)]\n",
    "data.append(aux)\n",
    "\n",
    "for i in range(1, n+1):\n",
    "    w = w + (h/2)*( f.subs({x:t, y:w}) + f.subs({x:t+h, y: w + h*f.subs({x:t, y:w})})  )\n",
    "    t = a + i*h\n",
    "    val = sol.subs(x, t).evalf()\n",
    "    e_abs = abs(w - val)\n",
    "    aux = [str(i), str(t), str(w), str(val), str(e_abs)]\n",
    "    data.append(aux)\n",
    "    xvaluesmeuler.append(t)\n",
    "    yvaluesmeuler.append(w)\n",
    "       \n",
    "lambdaf = lambdify(x, sol);\n",
    "#ax.axhline(y=0, color=\"k\")\n",
    "#ax.axvline(x=0, color=\"k\")\n",
    "xv = np.linspace(a , b  , 100)\n",
    "ax.plot(xv, lambdaf(xv), color='blue')\n",
    "plt.plot(xvaluesmeuler, yvaluesmeuler, color='red');\n",
    "plt.title(\"Azul: curva solución | Rojo: puntos de malla\");\n",
    "plt.grid();\n",
    "plt.show()"
   ]
  }
 ],
 "metadata": {
  "kernelspec": {
   "display_name": "Python 3",
   "language": "python",
   "name": "python3"
  },
  "language_info": {
   "codemirror_mode": {
    "name": "ipython",
    "version": 3
   },
   "file_extension": ".py",
   "mimetype": "text/x-python",
   "name": "python",
   "nbconvert_exporter": "python",
   "pygments_lexer": "ipython3",
   "version": "3.6.5"
  }
 },
 "nbformat": 4,
 "nbformat_minor": 2
}
