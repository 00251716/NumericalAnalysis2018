{
 "cells": [
  {
   "cell_type": "markdown",
   "metadata": {},
   "source": [
    "# Método de Euler\n",
    "\n",
    "\n",
    "Para deducir el método de Euler comenzamos suponiendo que el problema de valor inicial\n",
    "\n",
    "$$ y' = f(x, y) \\\\ y(a) = y_{0} $$\n",
    "\n",
    "tiene una única solución en un intervalo $[a, b]$, la cual denotamos por $y$. Deseamos aproximar $y$ en un conjunto finito de puntos en $[a, b]$ y estipulamos que estos puntos estarán uniformemente espaciados, por lo que seleccionamos un entero positivo $n$ y definimos el *tamaño de paso* como $h = \\frac{b- a}{n}$. Así, tomamos\n",
    "\n",
    "$$ x_{i} = a + ih $$\n",
    "\n",
    "para $i = 0, 1, 2, \\ldots , n$. Entonces tenemos que $x_{i+1} - x_{i} = h$ y denominamos a cada uno de estos $n+1$ puntos como *puntos de malla*. Buscamos generar $n + 1$ aproximaciones $y_{i}$ a los valores $y(x_{i})$. Si añadimos la suposición que $y \\in C^{2} [a, b]$, podemos aplicar el teorema de Taylor a $y$ tomando como centro un punto de malla $x_{i}$ arbitrario. Entonces para todo $x \\in [a, b]$ tenemos que\n",
    "\n",
    "$$ y(x) = y(x_{i}) + y'(x_{i})(x - x_{i}) + \\frac{y''( \\xi _{i} )}{2} (x - x_{i})^{2} $$\n",
    "\n",
    "donde $ \\xi _{i} $ se encuentra entre $x$ y $x_{i}$. Ahora evaluemos en el punto de malla $x_{i+1}$ \n",
    "\n",
    "$$ y(x_{i+1}) = y(x_{i}) + y'(x_{i})(x_{i+1} - x_{i}) + \\frac{y''( \\xi _{i} )}{2} (x_{i+1} - x_{i})^{2} $$\n",
    "\n",
    "de lo que podemos deducir que \n",
    "\n",
    "$$ y(x_{i+1}) = y(x_{i}) + f(x_{i}, y(x_{i}))h +  O ( h^{2} ) $$\n",
    "\n",
    "Si descartamos el término $ O ( h^{2} ) $ podemos generar $n+1$ aproximaciones $y_{i+1}  \\approx y_{i} + f(x_{i}, y_{i})h $ comenzando con la condición inicial $y_{0}$."
   ]
  },
  {
   "cell_type": "markdown",
   "metadata": {},
   "source": [
    "### Dependencias"
   ]
  },
  {
   "cell_type": "code",
   "execution_count": 18,
   "metadata": {},
   "outputs": [],
   "source": [
    "from sympy import *\n",
    "from ipywidgets import widgets\n",
    "\n",
    "from IPython.display import display, Latex\n",
    "import matplotlib.pyplot as plt;\n",
    "import numpy as np\n",
    "\n",
    "fig, ax = plt.subplots(figsize=(9, 9));\n",
    "\n",
    "#Definimos las variables a utilizar\n",
    "x, y = symbols('x y')\n",
    "f = Function('f')(x, y)"
   ]
  },
  {
   "cell_type": "markdown",
   "metadata": {},
   "source": [
    "### Parámetros"
   ]
  },
  {
   "cell_type": "code",
   "execution_count": 19,
   "metadata": {},
   "outputs": [
    {
     "name": "stdout",
     "output_type": "stream",
     "text": [
      "Ingrese la expresión f en términos de x, y:  x*exp(3*x) - 2*y\n",
      "Ingrese la solución analítica: (1/5)*x*exp(3*x) - (1/25)*exp(3*x) + (1/25)*exp(-2*x)\n"
     ]
    }
   ],
   "source": [
    "#definiendo la expresión\n",
    "f = sympify(input(\"Ingrese la expresión f en términos de x, y:  \"))\n",
    "sol = sympify(input(\"Ingrese la solución analítica: \"))\n",
    "\n",
    "a = 0.0 #Extremo izquierdo de intervalo\n",
    "b = 1.0 #Extremo derecho del intervalo\n",
    "\n",
    "y0 = 0.0 #condición inicial\n",
    "\n",
    "n = 100 #puntos de malla"
   ]
  },
  {
   "cell_type": "markdown",
   "metadata": {},
   "source": [
    "### Desarrollo"
   ]
  },
  {
   "cell_type": "code",
   "execution_count": 20,
   "metadata": {},
   "outputs": [
    {
     "data": {
      "image/png": "[encoded data removed]",
      "text/plain": [
       "<Figure size 648x648 with 1 Axes>"
      ]
     },
     "metadata": {},
     "output_type": "display_data"
    }
   ],
   "source": [
    "xvalues = []\n",
    "yvalues = []\n",
    "\n",
    "h = (b-a)/n #primero determinamos el tamaño de paso\n",
    "t1 = a\n",
    "w = y0\n",
    "xvalues.append(t1)\n",
    "yvalues.append(w)\n",
    "\n",
    "for i in range(1, n+1):\n",
    "    w = w + h*f.subs({x:t1, y:w})\n",
    "    t1 = a + i*h\n",
    "    xvalues.append(t1)\n",
    "    yvalues.append(w)\n",
    "    \n",
    "lambdaf = lambdify(x, sol);\n",
    "xv = np.linspace(a , b  , 50)\n",
    "ax.plot(xv, lambdaf(xv), color='blue')\n",
    "plt.scatter(xvalues, yvalues, color='red');\n",
    "plt.show()"
   ]
  },
  {
   "cell_type": "code",
   "execution_count": null,
   "metadata": {},
   "outputs": [],
   "source": []
  }
 ],
 "metadata": {
  "kernelspec": {
   "display_name": "Python 3",
   "language": "python",
   "name": "python3"
  },
  "language_info": {
   "codemirror_mode": {
    "name": "ipython",
    "version": 3
   },
   "file_extension": ".py",
   "mimetype": "text/x-python",
   "name": "python",
   "nbconvert_exporter": "python",
   "pygments_lexer": "ipython3",
   "version": "3.6.5"
  }
 },
 "nbformat": 4,
 "nbformat_minor": 2
}
