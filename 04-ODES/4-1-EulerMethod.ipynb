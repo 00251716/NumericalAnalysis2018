{
 "cells": [
  {
   "cell_type": "markdown",
   "metadata": {},
   "source": [
    "# Método de Euler\n",
    "\n",
    "\n",
    "Para deducir el método de Euler comenzamos suponiendo que el problema de valor inicial\n",
    "\n",
    "$$ y' = f(x, y) \\\\ y(a) = y_{0} $$\n",
    "\n",
    "tiene una única solución en un intervalo $[a, b]$, la cual denotamos por $y$. Deseamos aproximar $y$ en un conjunto finito de puntos en $[a, b]$ y estipulamos que estos puntos estarán uniformemente espaciados, por lo que seleccionamos un entero positivo $n$ y definimos el *tamaño de paso* como $h = \\frac{b- a}{n}$. Así, tomamos\n",
    "\n",
    "$$ x_{i} = a + ih $$\n",
    "\n",
    "para $i = 0, 1, 2, \\ldots , n$. Entonces tenemos que $x_{i+1} - x_{i} = h$ y denominamos a cada uno de estos $n+1$ puntos como *puntos de malla*. Buscamos generar $n + 1$ aproximaciones $y_{i}$ a los valores $y(x_{i})$. Si añadimos la suposición que $y \\in C^{2} [a, b]$, podemos aplicar el teorema de Taylor a $y$ tomando como centro un punto de malla $x_{i}$ arbitrario. Entonces para todo $x \\in [a, b]$ tenemos que\n",
    "\n",
    "$$ y(x) = y(x_{i}) + y'(x_{i})(x - x_{i}) + \\frac{y''( \\xi _{i} )}{2} (x - x_{i})^{2} $$\n",
    "\n",
    "donde $ \\xi _{i} $ se encuentra entre $x$ y $x_{i}$. Ahora evaluemos en el punto de malla $x_{i+1}$ \n",
    "\n",
    "$$ y(x_{i+1}) = y(x_{i}) + y'(x_{i})(x_{i+1} - x_{i}) + \\frac{y''( \\xi _{i} )}{2} (x_{i+1} - x_{i})^{2} $$\n",
    "\n",
    "de lo que podemos deducir que \n",
    "\n",
    "$$ y(x_{i+1}) = y(x_{i}) + f(x_{i}, y(x_{i}))h +  O ( h^{2} ) $$\n",
    "\n",
    "Si descartamos el término $ O ( h^{2} ) $ podemos generar $n+1$ aproximaciones $y(x_{i+1})  \\approx y(x_{i}) + f(x_{i}, y(x_{i}))h $ comenzando con la condición inicial $y_{0}$."
   ]
  },
  {
   "cell_type": "markdown",
   "metadata": {},
   "source": [
    "### Dependencias"
   ]
  },
  {
   "cell_type": "code",
   "execution_count": 3,
   "metadata": {},
   "outputs": [],
   "source": [
    "from sympy import *\n",
    "from ipywidgets import widgets\n",
    "\n",
    "from IPython.display import display, Latex\n",
    "from sympy.plotting import plot;\n",
    "import matplotlib.pyplot as mpl\n",
    "\n",
    "mpl.rcParams['figure.figsize'] = 8, 8\n",
    "\n",
    "#Definimos las variables a utilizar\n",
    "x, y = symbols('x y')\n",
    "f = Function('f')(x, y)"
   ]
  },
  {
   "cell_type": "markdown",
   "metadata": {},
   "source": [
    "### Parámetros"
   ]
  },
  {
   "cell_type": "code",
   "execution_count": 3,
   "metadata": {},
   "outputs": [
    {
     "name": "stdout",
     "output_type": "stream",
     "text": [
      "Ingrese la expresión f en términos de t, y:  y - t**2 + 1\n"
     ]
    }
   ],
   "source": [
    "#definiendo la expresión\n",
    "f = sympify(input(\"Ingrese la expresión f en términos de t, y:  \"))\n",
    "\n",
    "a = 0.0 #Extremo izquierdo de intervalo\n",
    "b = 2.0 #Extremo derecho del intervalo\n",
    "\n",
    "y0 = 0.5 #condición inicial\n",
    "\n",
    "n = 10 #puntos de malla"
   ]
  },
  {
   "cell_type": "markdown",
   "metadata": {},
   "source": [
    "## Algoritmo"
   ]
  },
  {
   "cell_type": "code",
   "execution_count": 8,
   "metadata": {},
   "outputs": [
    {
     "name": "stdout",
     "output_type": "stream",
     "text": [
      "(0.0, 0.5)\n",
      "(0.2, 0.800000000000000)\n",
      "(0.4, 1.15200000000000)\n",
      "(0.6000000000000001, 1.55040000000000)\n",
      "(0.8, 1.98848000000000)\n",
      "(1.0, 2.45817600000000)\n",
      "(1.2000000000000002, 2.94981120000000)\n",
      "(1.4000000000000001, 3.45177344000000)\n",
      "(1.6, 3.95012812800000)\n",
      "(1.8, 4.42815375360000)\n",
      "(2.0, 4.86578450432000)\n"
     ]
    }
   ],
   "source": [
    "h = (b-a)/n #primero determinamos el tamaño de paso\n",
    "t1 = a\n",
    "w = y0\n",
    "print((t1, w))\n",
    "\n",
    "for i in range(1, n+1):\n",
    "    w = w + h*f.subs({t:t1, y:w})\n",
    "    t1 = a + i*h\n",
    "    print((t1, w))\n"
   ]
  },
  {
   "cell_type": "code",
   "execution_count": 7,
   "metadata": {},
   "outputs": [
    {
     "data": {
      "application/vnd.jupyter.widget-view+json": {
       "model_id": "283eba8d8dea4c9f8e7ff38ab9a76037"
      }
     },
     "metadata": {},
     "output_type": "display_data"
    },
    {
     "name": "stdout",
     "output_type": "stream",
     "text": [
      "daiodjao\n",
      "daiodjaoiqwjeqwoejwq\n",
      "daiodjaoiqwjeqwoejwqiqojeoqwiejqw\n"
     ]
    }
   ],
   "source": [
    "text = widgets.Text()\n",
    "display(text)\n",
    "\n",
    "def handle_submit(sender):\n",
    "    print(text.value)\n",
    "\n",
    "text.on_submit(handle_submit)    "
   ]
  },
  {
   "cell_type": "code",
   "execution_count": 4,
   "metadata": {},
   "outputs": [
    {
     "data": {
      "text/html": [
       "<table>\n",
       "<tbody>\n",
       "<tr><td>Sun  </td><td style=\"text-align: right;\">696000</td><td style=\"text-align: right;\">   1.9891e+09</td></tr>\n",
       "<tr><td>Earth</td><td style=\"text-align: right;\">  6371</td><td style=\"text-align: right;\">5973.6       </td></tr>\n",
       "<tr><td>Moon </td><td style=\"text-align: right;\">  1737</td><td style=\"text-align: right;\">  73.5       </td></tr>\n",
       "<tr><td>Mars </td><td style=\"text-align: right;\">  3390</td><td style=\"text-align: right;\"> 641.85      </td></tr>\n",
       "</tbody>\n",
       "</table>"
      ],
      "text/plain": [
       "<IPython.core.display.HTML object>"
      ]
     },
     "metadata": {},
     "output_type": "display_data"
    }
   ],
   "source": [
    "from IPython.display import HTML, display\n",
    "import tabulate\n",
    "table = [[\"Sun\",696000,1989100000],\n",
    "         [\"Earth\",6371,5973.6],\n",
    "         [\"Moon\",1737,73.5],\n",
    "         [\"Mars\",3390,641.85]]\n",
    "display(HTML(tabulate.tabulate(table, tablefmt='html')))"
   ]
  },
  {
   "cell_type": "code",
   "execution_count": 7,
   "metadata": {},
   "outputs": [
    {
     "ename": "AttributeError",
     "evalue": "'dict' object has no attribute 'iteritems'",
     "output_type": "error",
     "traceback": [
      "\u001b[0;31m---------------------------------------------------------------------------\u001b[0m",
      "\u001b[0;31mAttributeError\u001b[0m                            Traceback (most recent call last)",
      "\u001b[0;32m<ipython-input-7-b62cf3d213b7>\u001b[0m in \u001b[0;36m<module>\u001b[0;34m()\u001b[0m\n\u001b[1;32m      5\u001b[0m \u001b[0mdf\u001b[0m \u001b[0;34m=\u001b[0m \u001b[0mpd\u001b[0m\u001b[0;34m.\u001b[0m\u001b[0mDataFrame\u001b[0m\u001b[0;34m(\u001b[0m\u001b[0mnp\u001b[0m\u001b[0;34m.\u001b[0m\u001b[0mrandom\u001b[0m\u001b[0;34m.\u001b[0m\u001b[0mrand\u001b[0m\u001b[0;34m(\u001b[0m\u001b[0;36m4\u001b[0m\u001b[0;34m,\u001b[0m\u001b[0;36m4\u001b[0m\u001b[0;34m)\u001b[0m\u001b[0;34m,\u001b[0m \u001b[0mindex\u001b[0m\u001b[0;34m=\u001b[0m\u001b[0;34m[\u001b[0m\u001b[0;34m'a'\u001b[0m\u001b[0;34m,\u001b[0m\u001b[0;34m'b'\u001b[0m\u001b[0;34m,\u001b[0m\u001b[0;34m'c'\u001b[0m\u001b[0;34m,\u001b[0m\u001b[0;34m'd'\u001b[0m\u001b[0;34m]\u001b[0m\u001b[0;34m,\u001b[0m \u001b[0mcolumns\u001b[0m \u001b[0;34m=\u001b[0m \u001b[0;34m[\u001b[0m\u001b[0;34m'aa'\u001b[0m\u001b[0;34m,\u001b[0m\u001b[0;34m'bb'\u001b[0m\u001b[0;34m,\u001b[0m\u001b[0;34m'cc'\u001b[0m\u001b[0;34m,\u001b[0m\u001b[0;34m'dd'\u001b[0m\u001b[0;34m]\u001b[0m\u001b[0;34m)\u001b[0m\u001b[0;34m\u001b[0m\u001b[0m\n\u001b[1;32m      6\u001b[0m \u001b[0mdf\u001b[0m\u001b[0;34m.\u001b[0m\u001b[0mindex\u001b[0m\u001b[0;34m.\u001b[0m\u001b[0mname\u001b[0m \u001b[0;34m=\u001b[0m \u001b[0;34m'ABC'\u001b[0m\u001b[0;34m\u001b[0m\u001b[0m\n\u001b[0;32m----> 7\u001b[0;31m \u001b[0mtable_block\u001b[0m \u001b[0;34m=\u001b[0m \u001b[0mBlock\u001b[0m\u001b[0;34m(\u001b[0m\u001b[0mdf\u001b[0m\u001b[0;34m)\u001b[0m\u001b[0;34m\u001b[0m\u001b[0m\n\u001b[0m\u001b[1;32m      8\u001b[0m \u001b[0moutput\u001b[0m \u001b[0;34m=\u001b[0m \u001b[0mtable_block\u001b[0m\u001b[0;34m.\u001b[0m\u001b[0mrender_html\u001b[0m\u001b[0;34m(\u001b[0m\u001b[0;34m)\u001b[0m\u001b[0;34m\u001b[0m\u001b[0m\n\u001b[1;32m      9\u001b[0m \u001b[0;34m\u001b[0m\u001b[0m\n",
      "\u001b[0;32m/usr/lib/python3.6/site-packages/pybloqs/block/convenience.py\u001b[0m in \u001b[0;36mBlock\u001b[0;34m(contents, title, title_level, title_wrap, inherit_cfg, **kwargs)\u001b[0m\n\u001b[1;32m     51\u001b[0m     \u001b[0mblock_cls\u001b[0m \u001b[0;34m=\u001b[0m \u001b[0;32mNone\u001b[0m\u001b[0;34m\u001b[0m\u001b[0m\n\u001b[1;32m     52\u001b[0m     \u001b[0;31m# Need to loop to catch inherited classes as well\u001b[0m\u001b[0;34m\u001b[0m\u001b[0;34m\u001b[0m\u001b[0m\n\u001b[0;32m---> 53\u001b[0;31m     \u001b[0;32mfor\u001b[0m \u001b[0mkey\u001b[0m\u001b[0;34m,\u001b[0m \u001b[0mvalue\u001b[0m \u001b[0;32min\u001b[0m \u001b[0m_block_types\u001b[0m\u001b[0;34m.\u001b[0m\u001b[0miteritems\u001b[0m\u001b[0;34m(\u001b[0m\u001b[0;34m)\u001b[0m\u001b[0;34m:\u001b[0m\u001b[0;34m\u001b[0m\u001b[0m\n\u001b[0m\u001b[1;32m     54\u001b[0m         \u001b[0;32mif\u001b[0m \u001b[0misinstance\u001b[0m\u001b[0;34m(\u001b[0m\u001b[0mcontents\u001b[0m\u001b[0;34m,\u001b[0m \u001b[0mkey\u001b[0m\u001b[0;34m)\u001b[0m\u001b[0;34m:\u001b[0m\u001b[0;34m\u001b[0m\u001b[0m\n\u001b[1;32m     55\u001b[0m             \u001b[0mblock_cls\u001b[0m \u001b[0;34m=\u001b[0m \u001b[0mvalue\u001b[0m\u001b[0;34m\u001b[0m\u001b[0m\n",
      "\u001b[0;31mAttributeError\u001b[0m: 'dict' object has no attribute 'iteritems'"
     ]
    }
   ],
   "source": [
    "import pybloqs as abl\n",
    "from pybloqs import Block\n",
    "import pandas as pd\n",
    "import numpy as np\n",
    "df = pd.DataFrame(np.random.rand(4,4), index=['a','b','c','d'], columns = ['aa','bb','cc','dd'])\n",
    "df.index.name = 'ABC'\n",
    "table_block = Block(df)\n",
    "output = table_block.render_html()\n",
    "\n",
    "\n",
    "# Displaying pybloqs out in jupyter requires rendering html output\n",
    "from IPython.core.display import display, HTML\n",
    "display(HTML(output))"
   ]
  },
  {
   "cell_type": "code",
   "execution_count": null,
   "metadata": {},
   "outputs": [],
   "source": []
  }
 ],
 "metadata": {
  "kernelspec": {
   "display_name": "Python 3",
   "language": "python",
   "name": "python3"
  },
  "language_info": {
   "codemirror_mode": {
    "name": "ipython",
    "version": 3
   },
   "file_extension": ".py",
   "mimetype": "text/x-python",
   "name": "python",
   "nbconvert_exporter": "python",
   "pygments_lexer": "ipython3",
   "version": "3.6.5"
  }
 },
 "nbformat": 4,
 "nbformat_minor": 2
}
