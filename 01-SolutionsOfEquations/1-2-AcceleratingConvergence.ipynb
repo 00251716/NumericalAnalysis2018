{
 "cells": [
  {
   "cell_type": "markdown",
   "metadata": {},
   "source": [
    "## Método $\\Delta^2$ de Aitken"
   ]
  },
  {
   "cell_type": "markdown",
   "metadata": {},
   "source": [
    "El método $\\Delta^2$ de Aitken está basado que la sucesión $ \\{\\hat{p}_n\\}^\\infty _{n=0}$ definida por\n",
    "$$ \\hat{p}_n = p_n - \\frac{( p_{n+1} - p_n )^2}{p_{n+2} - 2 p_{n+1} + p_n} $$\n",
    "converge más rapido a $p$ que la sucesión original $\\{p_n\\}^\\infty _{n=0} $"
   ]
  },
  {
   "cell_type": "markdown",
   "metadata": {},
   "source": [
    "### Dependencias"
   ]
  },
  {
   "cell_type": "code",
   "execution_count": 27,
   "metadata": {},
   "outputs": [],
   "source": [
    "from sympy import *\n",
    "from IPython.display import display, display_html, HTML, Latex\n",
    "import matplotlib.pyplot as plot\n",
    "import numpy as np\n",
    "init_printing(use_latex=True)\n",
    "\n",
    "x = symbols('x')\n",
    "\n",
    "# Método para imprimir la información en forma de tabla\n",
    "def printTable(columns, data):\n",
    "    base_table = ( '<table class=\"table-bordered table-responsive\"><thead><tr>{}'\n",
    "             '</tr></thead><tbody><tr>{}</tr>'\n",
    "             '</tbody></table>'\n",
    "    ).format(\n",
    "        '<th style=\"width:40px; text-align:center\">{}</th>'.format(\n",
    "            '</th><th style=\"text-align:center\">'.join(j for j in columns)),\n",
    "        '</tr><tr>'.join(\n",
    "            '<td style=\"text-align:center;\">{}</td>'.format('</td><td>'.join(j for j in row)) for row in data\n",
    "        )\n",
    "    )\n",
    "    display(HTML(base_table))"
   ]
  },
  {
   "cell_type": "markdown",
   "metadata": {},
   "source": [
    "### Programa"
   ]
  },
  {
   "cell_type": "code",
   "execution_count": 71,
   "metadata": {},
   "outputs": [
    {
     "name": "stdout",
     "output_type": "stream",
     "text": [
      "Ingrese la función g(x): 0.5(cos(x)+sin(x))\n",
      "¡Ups! Parece que la función no fue ingresada correctamente. Intente de nuevo.\n",
      "Ingrese la función g(x): 0.5*(cos(x)+sin(x))\n"
     ]
    },
    {
     "data": {
      "text/latex": [
       "$$ g(x) = 0.5 \\sin{\\left (x \\right )} + 0.5 \\cos{\\left (x \\right )} $$"
      ],
      "text/plain": [
       "<IPython.core.display.Latex object>"
      ]
     },
     "metadata": {},
     "output_type": "display_data"
    }
   ],
   "source": [
    "# Solicitando la función a evaluar\n",
    "while True:\n",
    "    try:\n",
    "        g = sympify(input('Ingrese la función g(x): '))\n",
    "        break\n",
    "    except (SympifyError, TypeError):\n",
    "        print(\"¡Ups! Parece que la función no fue ingresada correctamente. Intente de nuevo.\")\n",
    "display(Latex('$$ g(x) = ' + latex(g) + ' $$'))"
   ]
  },
  {
   "cell_type": "code",
   "execution_count": 72,
   "metadata": {},
   "outputs": [
    {
     "name": "stdout",
     "output_type": "stream",
     "text": [
      "Ingrese el valor inicial x0: 0\n",
      "x0 = 0.0\n"
     ]
    }
   ],
   "source": [
    "# Solicitando valor inicial\n",
    "while True:\n",
    "    try:\n",
    "        x_inicial = float(sympify(input(\"Ingrese el valor inicial x0: \")).evalf())\n",
    "        break\n",
    "    except (ValueError, TypeError) as e:\n",
    "        print(\"El valor ingresado no es un número. Error: {}\\nIntente de nuevo.\".format(e))\n",
    "print(\"x0 = {}\".format(x_inicial))"
   ]
  },
  {
   "cell_type": "code",
   "execution_count": 23,
   "metadata": {},
   "outputs": [
    {
     "name": "stdout",
     "output_type": "stream",
     "text": [
      "Ingrese la tolerancia deseada (p. e. 1e-6): 1e-9\n",
      "tolerancia = 1e-09\n"
     ]
    }
   ],
   "source": [
    "# Solicitando la tolerancia\n",
    "while True:\n",
    "    try:\n",
    "        tol = abs(float(input(\"Ingrese la tolerancia deseada (p. e. 1e-6): \")))\n",
    "        break\n",
    "    except ValueError:\n",
    "        print(\"El valor ingresado no es un número. Intente de nuevo.\")\n",
    "print(\"tolerancia = {}\".format(tol))"
   ]
  },
  {
   "cell_type": "code",
   "execution_count": 73,
   "metadata": {},
   "outputs": [
    {
     "data": {
      "text/html": [
       "<table class=\"table-bordered table-responsive\"><thead><tr><th style=\"width:40px; text-align:center\">n</th><th style=\"text-align:center\">x<sub>n</sub></th><th style=\"text-align:center\">x<sub>n+1</sub></th><th style=\"text-align:center\">x<sub>n+2</sub></th><th style=\"text-align:center\">p<sub>n</sub></th><th style=\"text-align:center\">E<sub>n</sub></th></tr></thead><tbody><tr><td style=\"text-align:center;\">0</td><td>0.0000000000</td><td>0.0000000000</td><td>0.5000000000</td><td>0.7776147730</td><td>N/A</td></tr><tr><td style=\"text-align:center;\">1</td><td>0.5000000000</td><td>0.5000000000</td><td>0.6785040502</td><td>0.7069913925</td><td>7.0623380518e-2</td></tr><tr><td style=\"text-align:center;\">2</td><td>0.6785040502</td><td>0.6785040502</td><td>0.7030708011</td><td>0.7048292862</td><td>2.1621063359e-3</td></tr><tr><td style=\"text-align:center;\">3</td><td>0.7030708011</td><td>0.7030708011</td><td>0.7047118221</td><td>0.7048120672</td><td>1.7218960536e-5</td></tr><tr><td style=\"text-align:center;\">4</td><td>0.7047118221</td><td>0.7047118221</td><td>0.7048062961</td><td>0.7048120022</td><td>6.5009594818e-8</td></tr><tr><td style=\"text-align:center;\">5</td><td>0.7048062961</td><td>0.7048062961</td><td>0.7048116772</td><td>0.7048120020</td><td>2.1291524099e-10</td></tr></tbody></table>"
      ],
      "text/plain": [
       "<IPython.core.display.HTML object>"
      ]
     },
     "metadata": {},
     "output_type": "display_data"
    },
    {
     "name": "stdout",
     "output_type": "stream",
     "text": [
      "Raíz encontrada: 0.704812002001991\n",
      " En la iteración 6\n"
     ]
    },
    {
     "data": {
      "image/png": "[encoded data removed]",
      "text/plain": [
       "<Figure size 648x648 with 1 Axes>"
      ]
     },
     "metadata": {},
     "output_type": "display_data"
    }
   ],
   "source": [
    "x0 = x_inicial\n",
    "columns = [\"n\", \"x<sub>n</sub>\", \"x<sub>n+1</sub>\", \"x<sub>n+2</sub>\", \"p<sub>n</sub>\", \"E<sub>abs</sub>\"]\n",
    "data =[]\n",
    "p0 = None\n",
    "e_abs = oo.evalf()\n",
    "n = 0\n",
    "while True:\n",
    "    if (e_abs < tol): break\n",
    "    x1 = g.subs(x, x0).evalf()\n",
    "    x2 = g.subs(x, x1).evalf()\n",
    "    p = x0 - ((x1 - x0)**2)/(x2 - 2*x1 + x0)\n",
    "    if n > 0: e_abs = abs(p - p0)\n",
    "    aux = [str(n), \"{:.10f}\".format(x0), \"{:.10f}\".format(x0), \"{:.10f}\".format(x1),\n",
    "           \"{:.10f}\".format(p), \"{:.10e}\".format(e_abs) if n > 0 else \"N/A\"]\n",
    "    data.append(aux)\n",
    "    n += 1\n",
    "    p0 = p\n",
    "    x0 = x1\n",
    "\n",
    "printTable(columns, data)\n",
    "print(\"Raíz encontrada: {}\\n En la iteración {}\".format(p, n))\n",
    "\n",
    "plot.close()\n",
    "fig, ax = plot.subplots(figsize=(9,9));\n",
    "ax.axhline(y=0, color=\"k\")\n",
    "ax.axvline(x=0, color=\"k\")\n",
    "xv = np.linspace(int(p)-3, int(p)+3, 100)\n",
    "plot.plot(xv, lambdify(x, g)(xv))\n",
    "plot.plot(xv, xv)\n",
    "plot.plot([p],[p],\"ro\")\n",
    "plot.grid()\n",
    "plot.show()"
   ]
  },
  {
   "cell_type": "markdown",
   "metadata": {},
   "source": [
    " ## Método de Steffensen"
   ]
  },
  {
   "cell_type": "markdown",
   "metadata": {},
   "source": [
    "Este se base en el método $\\Delta^2$ de Aitken. Sin embargo, la diferencia es que en el método de Steffensen, se **introduce la aproximación** en la $g(x)$, debido a que $\\hat{p}$ se considera una buena aproximación, introducirlo como valor inicial en la siguiente ronda de iteraciones genera cada vez una mejor aproximación."
   ]
  },
  {
   "cell_type": "markdown",
   "metadata": {},
   "source": [
    "### Programa"
   ]
  },
  {
   "cell_type": "code",
   "execution_count": 67,
   "metadata": {},
   "outputs": [
    {
     "name": "stdout",
     "output_type": "stream",
     "text": [
      "Ingrese la función g(x): sqrt(10/(x+4))\n"
     ]
    },
    {
     "data": {
      "text/latex": [
       "$$ g(x) = \\sqrt{10} \\sqrt{\\frac{1}{x + 4}} $$"
      ],
      "text/plain": [
       "<IPython.core.display.Latex object>"
      ]
     },
     "metadata": {},
     "output_type": "display_data"
    }
   ],
   "source": [
    "# Solicitando la función a evaluar\n",
    "while True:\n",
    "    try:\n",
    "        g = sympify(input('Ingrese la función g(x): '))\n",
    "        break\n",
    "    except SympifyError:\n",
    "        print(\"¡Ups! Parece que la función no fue ingresada correctamente. Intente de nuevo.\")\n",
    "display(Latex('$$ g(x) = ' + latex(g) + ' $$'))"
   ]
  },
  {
   "cell_type": "code",
   "execution_count": 68,
   "metadata": {},
   "outputs": [
    {
     "name": "stdout",
     "output_type": "stream",
     "text": [
      "Ingrese el valor inicial x0: 1.5\n",
      "x0 = 1.5\n"
     ]
    }
   ],
   "source": [
    "# Solicitando valor inicial\n",
    "while True:\n",
    "    try:\n",
    "        x_inicial = float(sympify(input(\"Ingrese el valor inicial x0: \")).evalf())\n",
    "        break\n",
    "    except (ValueError, TypeError) as e:\n",
    "        print(\"El valor ingresado no es un número. Error: {}\\nIntente de nuevo.\".format(e))\n",
    "print(\"x0 = {}\".format(x_inicial))"
   ]
  },
  {
   "cell_type": "code",
   "execution_count": 57,
   "metadata": {},
   "outputs": [
    {
     "name": "stdout",
     "output_type": "stream",
     "text": [
      "Ingrese la tolerancia deseada (p. e. 1e-6): 1e-9\n",
      "tolerancia = 1e-09\n"
     ]
    }
   ],
   "source": [
    "# Solicitando la tolerancia\n",
    "while True:\n",
    "    try:\n",
    "        tol = abs(float(input(\"Ingrese la tolerancia deseada (p. e. 1e-6): \")))\n",
    "        break\n",
    "    except ValueError:\n",
    "        print(\"El valor ingresado no es un número. Intente de nuevo.\")\n",
    "print(\"tolerancia = {}\".format(tol))"
   ]
  },
  {
   "cell_type": "code",
   "execution_count": 69,
   "metadata": {},
   "outputs": [
    {
     "data": {
      "text/html": [
       "<table class=\"table-bordered table-responsive\"><thead><tr><th style=\"width:40px; text-align:center\">n</th><th style=\"text-align:center\">x<sub>n</sub></th><th style=\"text-align:center\">x<sub>n+1</sub></th><th style=\"text-align:center\">x<sub>n+2</sub></th><th style=\"text-align:center\">p<sub>n</sub></th><th style=\"text-align:center\">E<sub>abs</sub></th></tr></thead><tbody><tr><td style=\"text-align:center;\">0</td><td>1.5000000000</td><td>1.5000000000</td><td>1.3483997249</td><td>1.3652652240</td><td>N/A</td></tr><tr><td style=\"text-align:center;\">1</td><td>1.3652652240</td><td>1.3652652240</td><td>1.3652255336</td><td>1.3652300134</td><td>3.5210540675e-5</td></tr><tr><td style=\"text-align:center;\">2</td><td>1.3652300134</td><td>1.3652300134</td><td>1.3652300134</td><td>1.3652300134</td><td>2.4886759320e-12</td></tr></tbody></table>"
      ],
      "text/plain": [
       "<IPython.core.display.HTML object>"
      ]
     },
     "metadata": {},
     "output_type": "display_data"
    },
    {
     "name": "stdout",
     "output_type": "stream",
     "text": [
      "Raíz encontrada: 1.36523001341410\n",
      "En la iteración 3\n"
     ]
    },
    {
     "data": {
      "image/png": "[encoded data removed]",
      "text/plain": [
       "<Figure size 648x648 with 1 Axes>"
      ]
     },
     "metadata": {},
     "output_type": "display_data"
    }
   ],
   "source": [
    "x0 = x_inicial\n",
    "columns = [\"n\", \"x<sub>n</sub>\", \"x<sub>n+1</sub>\", \"x<sub>n+2</sub>\", \"p<sub>n</sub>\", \"E<sub>abs</sub>\"]\n",
    "data =[]\n",
    "p0 = None\n",
    "e_abs = oo.evalf()\n",
    "n = 0\n",
    "while True:\n",
    "    if (e_abs < tol): break\n",
    "    x1 = g.subs(x, x0).evalf()\n",
    "    x2 = g.subs(x, x1).evalf()\n",
    "    p = x0 - ((x1 - x0)**2)/(x2 - 2*x1 + x0)\n",
    "    if n > 0: e_abs = abs(p - p0)\n",
    "    aux = [str(n), \"{:.10f}\".format(x0), \"{:.10f}\".format(x0), \"{:.10f}\".format(x1),\n",
    "           \"{:.10f}\".format(p), \"{:.10e}\".format(e_abs) if n > 0 else \"N/A\"]\n",
    "    data.append(aux)\n",
    "    n += 1\n",
    "    p0 = p\n",
    "    x0 = p\n",
    "\n",
    "printTable(columns, data)\n",
    "print(\"Raíz encontrada: {}\\nEn la iteración {}\".format(p, n))\n",
    "\n",
    "plot.close()\n",
    "fig, ax = plot.subplots(figsize=(9,9));\n",
    "ax.axhline(y=0, color=\"k\")\n",
    "ax.axvline(x=0, color=\"k\")\n",
    "xv = np.linspace(int(p)-3, int(p)+3, 100)\n",
    "plot.plot(xv, lambdify(x, g)(xv))\n",
    "plot.plot(xv, xv)\n",
    "plot.plot([p],[p],\"ro\")\n",
    "plot.grid()\n",
    "plot.show()"
   ]
  }
 ],
 "metadata": {
  "kernelspec": {
   "display_name": "Python 3",
   "language": "python",
   "name": "python3"
  },
  "language_info": {
   "codemirror_mode": {
    "name": "ipython",
    "version": 3
   },
   "file_extension": ".py",
   "mimetype": "text/x-python",
   "name": "python",
   "nbconvert_exporter": "python",
   "pygments_lexer": "ipython3",
   "version": "3.6.5"
  }
 },
 "nbformat": 4,
 "nbformat_minor": 2
}
