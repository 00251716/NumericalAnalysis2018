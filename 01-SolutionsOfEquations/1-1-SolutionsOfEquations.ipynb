{
 "cells": [
  {
   "cell_type": "markdown",
   "metadata": {},
   "source": [
    "# Solucion de Ecuaciones de una variable y serie de Fourier"
   ]
  },
  {
   "cell_type": "markdown",
   "metadata": {},
   "source": [
    "Para este primer modulo se llevara a cabo la solucion de Ecuaciones de una variable mediante los siguientes metodos que se iran explicando mas adelante:\n",
    "\n",
    "_Método de Bisección, método de la Secante, método de Punto fijo, método de Steffensen, método de Aitken y el método de Müller_"
   ]
  },
  {
   "cell_type": "markdown",
   "metadata": {},
   "source": [
    "Antes de comenzar cabe recalcar lo siguiente, para que los programas aqui definidos tengan su correcto funcionamiento se les debe de alimentar de los siguientes parametros: Función  *$f(x)$* o  *$g(x)$*, puntos o valores iniciales necesarios para aplicar cada método, tolerancia $\\epsilon$ que se desea cumplir en la aproximación. Lo cual debe ingresarse en una celda de Jupyter antes de ejecutar el método.\n"
   ]
  },
  {
   "cell_type": "markdown",
   "metadata": {},
   "source": [
    "## Metodo de Biseccion"
   ]
  },
  {
   "cell_type": "markdown",
   "metadata": {},
   "source": [
    "En el analisis numerico el **_Método de Biseccion_** es un algoritmo de búsqueda de raíces que trabaja dividiendo el intervalo a la mitad y seleccionando el subintervalo que contiene a la raíz"
   ]
  },
  {
   "cell_type": "markdown",
   "metadata": {},
   "source": [
    "### Dependencias"
   ]
  },
  {
   "cell_type": "code",
   "execution_count": 4,
   "metadata": {},
   "outputs": [],
   "source": [
    "from math import ceil\n",
    "from sympy import *\n",
    "from sympy.parsing.sympy_parser import parse_expr\n",
    "from IPython.display import display, display_html, HTML\n",
    "init_printing()\n",
    "\n",
    "x = symbols('x')"
   ]
  },
  {
   "cell_type": "markdown",
   "metadata": {},
   "source": [
    "### Programa"
   ]
  },
  {
   "cell_type": "code",
   "execution_count": 5,
   "metadata": {},
   "outputs": [
    {
     "name": "stdout",
     "output_type": "stream",
     "text": [
      "Ingrese la función a calcular su raíz: x**2 - 3*x - 1\n"
     ]
    }
   ],
   "source": [
    "# Solicitando la función a evaluar\n",
    "while True:\n",
    "    try:\n",
    "        f = sympify(input('Ingrese la función a calcular su raíz: '))\n",
    "        break\n",
    "    except SympifyError as err:\n",
    "        print(\"¡Ups! Parece que la función no fue ingresada correctamente. Intente de nuevo.\")"
   ]
  },
  {
   "cell_type": "code",
   "execution_count": 53,
   "metadata": {},
   "outputs": [
    {
     "name": "stdout",
     "output_type": "stream",
     "text": [
      "Ingrese el límite inferior del intervalo (a): -1\n",
      "Ingrese el límite superior del intervalo (b): 0\n"
     ]
    }
   ],
   "source": [
    "# Solicitando el intervalo en el que se evalúa\n",
    "while True:\n",
    "    try:\n",
    "        a = float(input(\"Ingrese el límite inferior del intervalo (a): \"))\n",
    "        b = float(input(\"Ingrese el límite superior del intervalo (b): \"))\n",
    "        if a > b:\n",
    "            print(\"El límite inferior es mayor que el superior, se invertirán para continuar con el desarrollo\")\n",
    "            a, b = b, a\n",
    "        break\n",
    "    except ValueError:\n",
    "        print(\"El valor ingresado no es un número. Intente de nuevo.\")\n",
    "lowerbound = a\n",
    "higherbound = b"
   ]
  },
  {
   "cell_type": "code",
   "execution_count": 7,
   "metadata": {},
   "outputs": [
    {
     "name": "stdout",
     "output_type": "stream",
     "text": [
      "Ingrese la tolerancia deseada (p. e. 1e-6): 1e-3\n",
      "0.001\n"
     ]
    }
   ],
   "source": [
    "# Solicitando la tolerancia\n",
    "while True:\n",
    "    try:\n",
    "        tol = abs(float(input(\"Ingrese la tolerancia deseada (p. e. 1e-6): \")))\n",
    "        break\n",
    "    except ValueError:\n",
    "        print(\"El valor ingresado no es un número. Intente de nuevo.\")\n",
    "        \n",
    "print(tol)"
   ]
  },
  {
   "cell_type": "code",
   "execution_count": 54,
   "metadata": {},
   "outputs": [
    {
     "name": "stdout",
     "output_type": "stream",
     "text": [
      "Número máximo de iteraciones: 10\n",
      "\n"
     ]
    },
    {
     "data": {
      "text/html": [
       "<table class=\"table-bordered table-responsive\"><thead><tr><th style=\"text-align:center; width:40px;\">i</th><th style=\"text-align:center;\">a</th><th style=\"text-align:center;\">b</th><th style=\"text-align:center;\">c</th><th style=\"text-align:center;\">f(c)</th><th style=\"text-align:center;\">Eabs</th></tr></thead><tbody><tr><td style=\"text-align:center;\">0</td><td>-1.0000000000</td><td>0.0000000000</td><td>-0.5000000000</td><td>0.7500000000</td><td>5.0000000000e-01</td></tr><tr><td style=\"text-align:center;\">1</td><td>-0.5000000000</td><td>0.0000000000</td><td>-0.2500000000</td><td>-0.1875000000</td><td>2.5000000000e-01</td></tr><tr><td style=\"text-align:center;\">2</td><td>-0.5000000000</td><td>-0.2500000000</td><td>-0.3750000000</td><td>0.2656250000</td><td>1.2500000000e-01</td></tr><tr><td style=\"text-align:center;\">3</td><td>-0.3750000000</td><td>-0.2500000000</td><td>-0.3125000000</td><td>0.0351562500</td><td>6.2500000000e-02</td></tr><tr><td style=\"text-align:center;\">4</td><td>-0.3125000000</td><td>-0.2500000000</td><td>-0.2812500000</td><td>-0.0771484375</td><td>3.1250000000e-02</td></tr><tr><td style=\"text-align:center;\">5</td><td>-0.3125000000</td><td>-0.2812500000</td><td>-0.2968750000</td><td>-0.0212402344</td><td>1.5625000000e-02</td></tr><tr><td style=\"text-align:center;\">6</td><td>-0.3125000000</td><td>-0.2968750000</td><td>-0.3046875000</td><td>0.0068969727</td><td>7.8125000000e-03</td></tr><tr><td style=\"text-align:center;\">7</td><td>-0.3046875000</td><td>-0.2968750000</td><td>-0.3007812500</td><td>-0.0071868896</td><td>3.9062500000e-03</td></tr><tr><td style=\"text-align:center;\">8</td><td>-0.3046875000</td><td>-0.3007812500</td><td>-0.3027343750</td><td>-0.0001487732</td><td>1.9531250000e-03</td></tr><tr><td style=\"text-align:center;\">9</td><td>-0.3046875000</td><td>-0.3027343750</td><td>-0.3037109375</td><td>0.0033731461</td><td>9.7656250000e-04</td></tr></tbody></table>"
      ],
      "text/plain": [
       "<IPython.core.display.HTML object>"
      ]
     },
     "metadata": {},
     "output_type": "display_data"
    },
    {
     "name": "stdout",
     "output_type": "stream",
     "text": [
      "Raíz encontrada: -0.3037109375\n",
      "En la iteración 10\n"
     ]
    }
   ],
   "source": [
    "n = ceil(log(abs(higherbound-lowerbound)/tol,2))\n",
    "print(\"Número máximo de iteraciones: {}\\n\".format(n))\n",
    "\n",
    "a = lowerbound\n",
    "b = higherbound\n",
    "fa = f.subs(x, a).evalf()\n",
    "fb = f.subs(x, b).evalf()\n",
    "data = []\n",
    "methodFailed = True\n",
    "if fb*fa < 0:\n",
    "    for i in range(n):\n",
    "        c = (a+b)/2\n",
    "        fc = f.subs(x, c).evalf()\n",
    "        e_abs = abs((b-a)/2)\n",
    "        aux = [str(i), \"{:.10f}\".format(a), \"{:.10f}\".format(b),\n",
    "               \"{:.10f}\".format(c), \"{:.10f}\".format(fc), \"{:.10e}\".format(e_abs)]\n",
    "        data.append(aux)\n",
    "        fa = f.subs(x, a).evalf()\n",
    "        if fc == 0 or e_abs < tol:\n",
    "            methodFailed = False\n",
    "            break\n",
    "        if fc*fa < 0: b = c\n",
    "        else: a = c\n",
    "    if methodFailed:\n",
    "        print('El método falló después de {} iteraciones'.format(n))\n",
    "    else:\n",
    "        table = ( '<table class=\"table-bordered table-responsive\"><thead><tr>'\n",
    "                 '<th style=\"text-align:center; width:40px;\">i</th><th style=\"text-align:center;\">a</th>'\n",
    "                 '<th style=\"text-align:center;\">b</th><th style=\"text-align:center;\">c</th>'\n",
    "                 '<th style=\"text-align:center;\">f(c)</th><th style=\"text-align:center;\">Eabs</th></tr></thead>'\n",
    "                 '<tbody><tr>{}</tr>'\n",
    "                 '</tbody></table>'\n",
    "        ).format(\n",
    "            '</tr><tr>'.join(\n",
    "                '<td style=\"text-align:center;\">{}</td>'.format('</td><td>'.join(j for j in row)) for row in data\n",
    "            )\n",
    "        )\n",
    "\n",
    "        display(HTML(table))\n",
    "        print(\"Raíz encontrada: {}\\nEn la iteración {}\".format(c, i+1))\n",
    "else:\n",
    "    print(\"No se puede garantizar la existencia de una raíz en el intervalo proporcionado para la función. [{},{}]\"\n",
    "         .format(lowerbound, higherbound)\n",
    "         )"
   ]
  },
  {
   "cell_type": "code",
   "execution_count": 2,
   "metadata": {},
   "outputs": [
    {
     "data": {
      "text/html": [
       "<table class=\"table\"><tr><td>Ni</td><td>a</td><td>b</td><td>c</td><td>F(a)</td><td>F(b)</td><td>F(c)</td></tr><tr><td>0</td><td>0</td><td>-0.5</td><td>-0.25</td><td>-1</td><td>0.75</td><td>-0.1875</td></tr><tr><td>1</td><td>-0.25</td><td>-0.3125</td><td>-0.28125</td><td>-0.1875</td><td>0.03515625</td><td>-0.0771484375</td></tr><tr><td>2</td><td>-0.28125</td><td>-0.3125</td><td>-0.296875</td><td>-0.0771484375</td><td>0.03515625</td><td>-0.021240234375</td></tr><tr><td>3</td><td>-0.296875</td><td>-0.3046875</td><td>-0.30078125</td><td>-0.021240234375</td><td>0.00689697265625</td><td>-0.0071868896484375</td></tr><tr><td>4</td><td>-0.30078125</td><td>-0.3046875</td><td>-0.302734375</td><td>-0.0071868896484375</td><td>0.00689697265625</td><td>-0.000148773193359375</td></tr></table>"
      ],
      "text/plain": [
       "<IPython.core.display.HTML object>"
      ]
     },
     "metadata": {},
     "output_type": "display_data"
    },
    {
     "name": "stdout",
     "output_type": "stream",
     "text": [
      "La raiz encontrada es:  -0.302734375  en la iteracion  5\n"
     ]
    }
   ],
   "source": [
    "#%%latex\n",
    "#definiendo la f(x) a la cual deseamos calcular su raiz\n",
    "from sympy import *\n",
    "init_printing()\n",
    "from ipywidgets import *\n",
    "from IPython.display import *\n",
    "from IPython.display import Markdown, display\n",
    "from IPython.display import clear_output\n",
    "import numpy\n",
    "from sympy import *\n",
    "from IPython.display import display, Math, Latex, HTML\n",
    "def f(x):\n",
    "    return x **2 - 3 * x - 1\n",
    "\n",
    "a = 0\n",
    "b = -1\n",
    "error = 1\n",
    "epsilon = 1e-3\n",
    "#it_minimas = floor(ln((b - a) / epsilon)) + 1\n",
    "i=0\n",
    "data = [['Ni','a','b','c','F(a)','F(b)','F(c)']]\n",
    "while error > epsilon:\n",
    "    c = (a + b) / 2\n",
    "    fa = f(a) \n",
    "    fc = f(c)\n",
    "    fb = f(b)\n",
    "    aux=[]\n",
    "    if fa * fb < 0:    \n",
    "        if fc ==0:\n",
    "            print(\"La raiz es c\")\n",
    "            break\n",
    "        elif fa * fc < 0 :\n",
    "            b = c\n",
    "        else:\n",
    "            aux=[i,a,b,c,fa,fb,fc]\n",
    "            a = c\n",
    "            raiz = c\n",
    "            i+=1\n",
    "            error = abs(fc)\n",
    "            data.append(aux)\n",
    "    else :\n",
    "        print(\"La raiz no se encuentra en el intervalo proporcionado\")\n",
    "        break \n",
    "        \n",
    "display(HTML(\n",
    "    '<table class=\"table\"><tr>{}</tr></table>'.format(\n",
    "        '</tr><tr>'.join(\n",
    "            '<td>{}</td>'.format('</td><td>'.join(str(_) for _ in row)) for row in data)\n",
    "        )\n",
    " ))\n",
    "\n",
    "print(\"La raiz encontrada es: \",raiz,\" en la iteracion \",i)"
   ]
  },
  {
   "cell_type": "code",
   "execution_count": 8,
   "metadata": {},
   "outputs": [
    {
     "data": {
      "image/png": "[encoded data removed]",
      "text/plain": [
       "<Figure size 432x288 with 1 Axes>"
      ]
     },
     "metadata": {},
     "output_type": "display_data"
    }
   ],
   "source": [
    "%matplotlib inline\n",
    "import matplotlib.pyplot as plot\n",
    "import numpy as np\n",
    "\n",
    "x = np.linspace(-2,2,10)\n",
    "plot.plot(x,f(x))\n",
    "plot.plot([raiz],[fc],\"ro\")\n",
    "plot.grid()\n",
    "plot.show()\n",
    "\n",
    "#Aca se puede observar mas o menos el intervalo de nuestra raiz"
   ]
  },
  {
   "cell_type": "markdown",
   "metadata": {},
   "source": [
    "## Metodo de punto fijo"
   ]
  },
  {
   "cell_type": "markdown",
   "metadata": {},
   "source": [
    "#### El metodo de punto fijo es un algoritmo que trabaja de manera recursiva con iteraciones anteriores, para de esta manera encontrar las raices solucion a una ecuacion que se plantea de la siguiente manera $x = g(x)$  donde  $x - g(x) = f(x)$"
   ]
  },
  {
   "cell_type": "code",
   "execution_count": 24,
   "metadata": {},
   "outputs": [
    {
     "name": "stdout",
     "output_type": "stream",
     "text": [
      "El punto fijo es  -0.3027756377332649  despues de  10  iteraciones\n"
     ]
    },
    {
     "data": {
      "text/html": [
       "<table class=\"table\"><tr><td>i</td><td>p</td><td>g(p)</td><td>Error</td></tr><tr><td>0</td><td>-0.3333333333333333</td><td>0</td><td>0.3333333333333333</td></tr><tr><td>1</td><td>-0.3</td><td>-0.3333333333333333</td><td>0.033333333333333326</td></tr><tr><td>2</td><td>-0.30303030303030304</td><td>-0.3</td><td>0.00303030303030305</td></tr><tr><td>3</td><td>-0.3027522935779816</td><td>-0.30303030303030304</td><td>0.00027800945232142604</td></tr><tr><td>4</td><td>-0.3027777777777778</td><td>-0.3027522935779816</td><td>2.5484199796199647e-05</td></tr><tr><td>5</td><td>-0.3027754415475189</td><td>-0.3027777777777778</td><td>2.3362302589147177e-06</td></tr><tr><td>6</td><td>-0.3027756557168322</td><td>-0.3027754415475189</td><td>2.1416931328399613e-07</td></tr><tr><td>7</td><td>-0.3027756360832691</td><td>-0.3027756557168322</td><td>1.9633563108634178e-08</td></tr><tr><td>8</td><td>-0.3027756378831384</td><td>-0.3027756360832691</td><td>1.7998693091492157e-09</td></tr><tr><td>9</td><td>-0.3027756377181388</td><td>-0.3027756378831384</td><td>1.6499956956295136e-10</td></tr></table>"
      ],
      "text/plain": [
       "<IPython.core.display.HTML object>"
      ]
     },
     "metadata": {},
     "output_type": "display_data"
    }
   ],
   "source": [
    "#%latex\n",
    "#Primero definimos la funcion G(x) ya lista para el proceso iterativo\n",
    "#a partir de la funcion f(x) = x^2 - 3x -1 se define la g (x) o a partir de cualquier otra funcion arbitraria\n",
    "from math import *\n",
    "def g(x):\n",
    "    y = 1 /(x - 3)\n",
    "    return y\n",
    "p0=0\n",
    "\n",
    "tol=1e-10\n",
    "\n",
    "n0=300\n",
    "\n",
    "i=0\n",
    "\n",
    "tabla=[[\"i\",\"p\",\"g(p)\",\"Error\"]]\n",
    "\n",
    "while i<=n0:\n",
    "\n",
    "    p=g(p0)\n",
    "    aux2=[]\n",
    "    if abs(p-p0)<tol:\n",
    "\n",
    "        print(\"El punto fijo es \",p,\" despues de \",i,\" iteraciones\")\n",
    "    \n",
    "        break\n",
    "    \n",
    "    aux2=[i,p,p0, abs(p - p0) ]\n",
    "        \n",
    "    i=i+1\n",
    "    \n",
    "    \n",
    "    p0=p\n",
    "    \n",
    "    tabla.append(aux2)\n",
    "    \n",
    "if i>n0:\n",
    "\n",
    "    print(\"El metodo no converge \")\n",
    "    \n",
    "display(HTML(\n",
    "    '<table class=\"table\"><tr>{}</tr></table>'.format(\n",
    "        '</tr><tr>'.join(\n",
    "            '<td>{}</td>'.format('</td><td>'.join(str(_) for _ in row)) for row in tabla)\n",
    "        )\n",
    " ))\n",
    "\n"
   ]
  },
  {
   "cell_type": "code",
   "execution_count": 10,
   "metadata": {},
   "outputs": [
    {
     "data": {
      "image/png": "[encoded data removed]",
      "text/plain": [
       "<Figure size 432x288 with 1 Axes>"
      ]
     },
     "metadata": {},
     "output_type": "display_data"
    }
   ],
   "source": [
    "#Aca se puede ver la grafica de la funcion g(x) y como se intercepta con la funcion identidad \n",
    "%matplotlib inline\n",
    "import matplotlib.pyplot as plot\n",
    "import numpy as np\n",
    "\n",
    "x=np.linspace(-4,4,100)\n",
    "plot.plot(x,g(x))\n",
    "plot.plot(x,x)\n",
    "plot.plot(p,g(p),\"ro\")\n",
    "plot.grid()\n",
    "plot.show()\n"
   ]
  },
  {
   "cell_type": "markdown",
   "metadata": {},
   "source": [
    "# Metodo de la Secante"
   ]
  },
  {
   "cell_type": "markdown",
   "metadata": {},
   "source": [
    "#### En el analisis numerico el metodo de la secante es un metodo para encontrar las raices de una funcion de forma iterativa.\n",
    "#### Es una variación del método de Newton-Raphson donde en vez de calcular la derivada de la función en el punto de estudio, teniendo en mente la definición de derivada, se aproxima la pendiente a la recta que une la función evaluada en el punto de estudio y en el punto de la iteración anterior. Este método es de especial interés cuando el coste computacional de derivar la función de estudio y evaluarla es demasiado elevado, por lo que el método de Newton no resulta atractivo.\n",
    "\n",
    "#### En otras palabras, el método de la secante es un algoritmo de la raíz de investigación que utiliza una serie de raíces de las líneas secantes para aproximar mejor la raíz de una función f. El método de la secante se puede considerar como una aproximación en diferencias finitas del método de Newton-Raphson. Sin embargo, este método fue desarrollado independientemente de este último."
   ]
  },
  {
   "cell_type": "code",
   "execution_count": 30,
   "metadata": {},
   "outputs": [
    {
     "name": "stdout",
     "output_type": "stream",
     "text": [
      "La aproximacion de la raiz es  -0.3027756377319947\n"
     ]
    },
    {
     "data": {
      "text/html": [
       "<table class=\"table\"><tr><td>i</td><td>x0</td><td>x1</td><td>x2</td><td>Error</td></tr><tr><td>1</td><td>-1</td><td>-0.25</td><td>-0.25</td><td>1.0</td></tr><tr><td>2</td><td>-0.25</td><td>-0.29411764705882354</td><td>-0.29411764705882354</td><td>0.15000000000000002</td></tr><tr><td>3</td><td>-0.29411764705882354</td><td>-0.30290456431535273</td><td>-0.30290456431535273</td><td>0.02900886381950048</td></tr><tr><td>4</td><td>-0.30290456431535273</td><td>-0.3027753274072063</td><td>-0.3027753274072063</td><td>0.0004268409492052556</td></tr><tr><td>5</td><td>-0.3027753274072063</td><td>-0.3027756377208985</td><td>-0.3027756377208985</td><td>1.0248965026464695e-06</td></tr><tr><td>6</td><td>-0.3027756377208985</td><td>-0.3027756377319947</td><td>-0.3027756377319947</td><td>3.664819142611886e-11</td></tr></table>"
      ],
      "text/plain": [
       "<IPython.core.display.HTML object>"
      ]
     },
     "metadata": {},
     "output_type": "display_data"
    }
   ],
   "source": [
    "def poli(x):\n",
    "    return x** 2 - 3 * x - 1\n",
    "x0=0\n",
    "x1=-1\n",
    "x2 = 0\n",
    "i2=0\n",
    "tolerancia = 1e-6\n",
    "error = 1\n",
    "raiz2=[]\n",
    "raiz2.insert(0,0)\n",
    "tabla2=[[\"i\",\"x0\",\"x1\",\"x2\",\"Error\"]]\n",
    "\n",
    "while abs(error) >tolerancia :\n",
    "    aux2=[]\n",
    "    x2= x1 - (poli(x1)*(x1-x0)/(poli(x1)-poli(x0)))\n",
    "    raiz2.append(x2)\n",
    "    x0=x1\n",
    "    x1 = x2\n",
    "    i2+=1\n",
    "    error=(raiz2[i2]-raiz2[i2-1])/raiz2[i2]\n",
    "    aux2=[i2,x0,x1,x2,abs(error)]\n",
    "    tabla2.append(aux2)\n",
    "    \n",
    "print(\"La aproximacion de la raiz es \",x2)\n",
    "    \n",
    "display(HTML(\n",
    "    '<table class=\"table\"><tr>{}</tr></table>'.format(\n",
    "        '</tr><tr>'.join(\n",
    "            '<td>{}</td>'.format('</td><td>'.join(str(_) for _ in row)) for row in tabla2)\n",
    "        )\n",
    " ))"
   ]
  },
  {
   "cell_type": "code",
   "execution_count": 31,
   "metadata": {},
   "outputs": [
    {
     "data": {
      "image/png": "[encoded data removed]",
      "text/plain": [
       "<Figure size 432x288 with 1 Axes>"
      ]
     },
     "metadata": {},
     "output_type": "display_data"
    }
   ],
   "source": [
    "\n",
    "plot.plot(x,f2(x))\n",
    "plot.plot(x2,poli(x2),\"ro\")\n",
    "plot.grid()\n",
    "plot.show()"
   ]
  }
 ],
 "metadata": {
  "kernelspec": {
   "display_name": "Python 3",
   "language": "python",
   "name": "python3"
  },
  "language_info": {
   "codemirror_mode": {
    "name": "ipython",
    "version": 3
   },
   "file_extension": ".py",
   "mimetype": "text/x-python",
   "name": "python",
   "nbconvert_exporter": "python",
   "pygments_lexer": "ipython3",
   "version": "3.6.5"
  }
 },
 "nbformat": 4,
 "nbformat_minor": 2
}
