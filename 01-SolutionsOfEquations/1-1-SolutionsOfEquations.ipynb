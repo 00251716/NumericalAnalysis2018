{
 "cells": [
  {
   "cell_type": "markdown",
   "metadata": {},
   "source": [
    "# Solución de Ecuaciones de una variable"
   ]
  },
  {
   "cell_type": "markdown",
   "metadata": {},
   "source": [
    "Para este primer modulo se llevara a cabo la solucion de Ecuaciones de una variable mediante los siguientes metodos que se iran explicando mas adelante:\n",
    "\n",
    "_Método de Bisección, método de la Secante, método de Punto fijo, método de Steffensen, método de Aitken y el método de Müller_"
   ]
  },
  {
   "cell_type": "markdown",
   "metadata": {},
   "source": [
    "Antes de comenzar cabe recalcar lo siguiente, para que los programas aqui definidos tengan su correcto funcionamiento se les debe de alimentar de los siguientes parametros: Función  *$f(x)$* o  *$g(x)$*, puntos o valores iniciales necesarios para aplicar cada método, tolerancia $\\epsilon$ que se desea cumplir en la aproximación. Lo cual debe ingresarse en una celda de Jupyter antes de ejecutar el método.\n"
   ]
  },
  {
   "cell_type": "markdown",
   "metadata": {},
   "source": [
    "## Método de Bisección"
   ]
  },
  {
   "cell_type": "markdown",
   "metadata": {},
   "source": [
    "En el analisis numerico el **_Método de Biseccion_** es un algoritmo de búsqueda de raíces que trabaja dividiendo el intervalo a la mitad y seleccionando el subintervalo que contiene a la raíz"
   ]
  },
  {
   "cell_type": "markdown",
   "metadata": {},
   "source": [
    "### Dependencias y declaraciones comunes"
   ]
  },
  {
   "cell_type": "code",
   "execution_count": 1,
   "metadata": {},
   "outputs": [],
   "source": [
    "from math import ceil\n",
    "from sympy import *\n",
    "from sympy.parsing.sympy_parser import parse_expr\n",
    "from IPython.display import display, display_html, HTML, Latex\n",
    "import matplotlib.pyplot as plot\n",
    "import numpy as np\n",
    "\n",
    "init_printing()\n",
    "\n",
    "x = symbols('x')\n",
    "\n",
    "# Método para imprimir la información en forma de tabla\n",
    "def printTable(columns, data):\n",
    "    base_table = ( '<table class=\"table-bordered table-responsive\"><thead><tr>{}'\n",
    "             '</tr></thead><tbody><tr>{}</tr>'\n",
    "             '</tbody></table>'\n",
    "    ).format(\n",
    "        '<th style=\"width:40px; text-align:center\">{}</th>'.format(\n",
    "            '</th><th style=\"text-align:center\">'.join(j for j in columns)),\n",
    "        '</tr><tr>'.join(\n",
    "            '<td style=\"text-align:center;\">{}</td>'.format('</td><td>'.join(j for j in row)) for row in data\n",
    "        )\n",
    "    )\n",
    "    display(HTML(base_table))"
   ]
  },
  {
   "cell_type": "markdown",
   "metadata": {},
   "source": [
    "### Programa"
   ]
  },
  {
   "cell_type": "code",
   "execution_count": 2,
   "metadata": {},
   "outputs": [
    {
     "name": "stdout",
     "output_type": "stream",
     "text": [
      "Ingrese la función a calcular su raíz: x**2 - 3*x - 1\n"
     ]
    },
    {
     "data": {
      "text/latex": [
       "$$ f(x) = x^{2} - 3 x - 1 $$"
      ],
      "text/plain": [
       "<IPython.core.display.Latex object>"
      ]
     },
     "metadata": {},
     "output_type": "display_data"
    }
   ],
   "source": [
    "# Solicitando la función a evaluar\n",
    "while True:\n",
    "    try:\n",
    "        f = sympify(input('Ingrese la función a calcular su raíz: '))\n",
    "        break\n",
    "    except SympifyError:\n",
    "        print(\"¡Ups! Parece que la función no fue ingresada correctamente. Intente de nuevo.\")\n",
    "display(Latex('$$ f(x) = ' + latex(f) + ' $$'))"
   ]
  },
  {
   "cell_type": "code",
   "execution_count": 4,
   "metadata": {},
   "outputs": [
    {
     "name": "stdout",
     "output_type": "stream",
     "text": [
      "Ingrese el límite inferior del intervalo (a): -1\n",
      "Ingrese el límite superior del intervalo (b): 0\n"
     ]
    }
   ],
   "source": [
    "# Solicitando el intervalo en el que se evalúa\n",
    "while True:\n",
    "    try:\n",
    "        a = float(sympify(input(\"Ingrese el límite inferior del intervalo (a): \")).evalf())\n",
    "        b = float(sympify(input(\"Ingrese el límite superior del intervalo (b): \")).evalf())\n",
    "        break\n",
    "    except ValueError:\n",
    "        print(\"El valor ingresado no es un número. Intente de nuevo.\")\n",
    "lowerbound = a\n",
    "higherbound = b"
   ]
  },
  {
   "cell_type": "code",
   "execution_count": 5,
   "metadata": {},
   "outputs": [
    {
     "name": "stdout",
     "output_type": "stream",
     "text": [
      "Ingrese la tolerancia deseada (p. e. 1e-6): 1e-9\n"
     ]
    }
   ],
   "source": [
    "# Solicitando la tolerancia\n",
    "while True:\n",
    "    try:\n",
    "        tol = abs(float(input(\"Ingrese la tolerancia deseada (p. e. 1e-6): \")))\n",
    "        break\n",
    "    except ValueError:\n",
    "        print(\"El valor ingresado no es un número. Intente de nuevo.\")"
   ]
  },
  {
   "cell_type": "code",
   "execution_count": 6,
   "metadata": {},
   "outputs": [
    {
     "name": "stdout",
     "output_type": "stream",
     "text": [
      "Número máximo de iteraciones: 30\n",
      "\n"
     ]
    },
    {
     "data": {
      "text/html": [
       "<table class=\"table-bordered table-responsive\"><thead><tr><th style=\"width:40px; text-align:center\">i</th><th style=\"text-align:center\">a</th><th style=\"text-align:center\">b</th><th style=\"text-align:center\">c</th><th style=\"text-align:center\">f(c)</th><th style=\"text-align:center\">Eabs</th></tr></thead><tbody><tr><td style=\"text-align:center;\">0</td><td>-1.0000000000</td><td>0.0000000000</td><td>-0.5000000000</td><td>0.7500000000</td><td>5.0000000000e-01</td></tr><tr><td style=\"text-align:center;\">1</td><td>-0.5000000000</td><td>0.0000000000</td><td>-0.2500000000</td><td>-0.1875000000</td><td>2.5000000000e-01</td></tr><tr><td style=\"text-align:center;\">2</td><td>-0.5000000000</td><td>-0.2500000000</td><td>-0.3750000000</td><td>0.2656250000</td><td>1.2500000000e-01</td></tr><tr><td style=\"text-align:center;\">3</td><td>-0.3750000000</td><td>-0.2500000000</td><td>-0.3125000000</td><td>0.0351562500</td><td>6.2500000000e-02</td></tr><tr><td style=\"text-align:center;\">4</td><td>-0.3125000000</td><td>-0.2500000000</td><td>-0.2812500000</td><td>-0.0771484375</td><td>3.1250000000e-02</td></tr><tr><td style=\"text-align:center;\">5</td><td>-0.3125000000</td><td>-0.2812500000</td><td>-0.2968750000</td><td>-0.0212402344</td><td>1.5625000000e-02</td></tr><tr><td style=\"text-align:center;\">6</td><td>-0.3125000000</td><td>-0.2968750000</td><td>-0.3046875000</td><td>0.0068969727</td><td>7.8125000000e-03</td></tr><tr><td style=\"text-align:center;\">7</td><td>-0.3046875000</td><td>-0.2968750000</td><td>-0.3007812500</td><td>-0.0071868896</td><td>3.9062500000e-03</td></tr><tr><td style=\"text-align:center;\">8</td><td>-0.3046875000</td><td>-0.3007812500</td><td>-0.3027343750</td><td>-0.0001487732</td><td>1.9531250000e-03</td></tr><tr><td style=\"text-align:center;\">9</td><td>-0.3046875000</td><td>-0.3027343750</td><td>-0.3037109375</td><td>0.0033731461</td><td>9.7656250000e-04</td></tr><tr><td style=\"text-align:center;\">10</td><td>-0.3037109375</td><td>-0.3027343750</td><td>-0.3032226562</td><td>0.0016119480</td><td>4.8828125000e-04</td></tr><tr><td style=\"text-align:center;\">11</td><td>-0.3032226562</td><td>-0.3027343750</td><td>-0.3029785156</td><td>0.0007315278</td><td>2.4414062500e-04</td></tr><tr><td style=\"text-align:center;\">12</td><td>-0.3029785156</td><td>-0.3027343750</td><td>-0.3028564453</td><td>0.0002913624</td><td>1.2207031250e-04</td></tr><tr><td style=\"text-align:center;\">13</td><td>-0.3028564453</td><td>-0.3027343750</td><td>-0.3027954102</td><td>0.0000712909</td><td>6.1035156250e-05</td></tr><tr><td style=\"text-align:center;\">14</td><td>-0.3027954102</td><td>-0.3027343750</td><td>-0.3027648926</td><td>-0.0000387421</td><td>3.0517578125e-05</td></tr><tr><td style=\"text-align:center;\">15</td><td>-0.3027954102</td><td>-0.3027648926</td><td>-0.3027801514</td><td>0.0000162742</td><td>1.5258789062e-05</td></tr><tr><td style=\"text-align:center;\">16</td><td>-0.3027801514</td><td>-0.3027648926</td><td>-0.3027725220</td><td>-0.0000112340</td><td>7.6293945312e-06</td></tr><tr><td style=\"text-align:center;\">17</td><td>-0.3027801514</td><td>-0.3027725220</td><td>-0.3027763367</td><td>0.0000025201</td><td>3.8146972656e-06</td></tr><tr><td style=\"text-align:center;\">18</td><td>-0.3027763367</td><td>-0.3027725220</td><td>-0.3027744293</td><td>-0.0000043570</td><td>1.9073486328e-06</td></tr><tr><td style=\"text-align:center;\">19</td><td>-0.3027763367</td><td>-0.3027744293</td><td>-0.3027753830</td><td>-0.0000009185</td><td>9.5367431641e-07</td></tr><tr><td style=\"text-align:center;\">20</td><td>-0.3027763367</td><td>-0.3027753830</td><td>-0.3027758598</td><td>0.0000008008</td><td>4.7683715820e-07</td></tr><tr><td style=\"text-align:center;\">21</td><td>-0.3027758598</td><td>-0.3027753830</td><td>-0.3027756214</td><td>-0.0000000588</td><td>2.3841857910e-07</td></tr><tr><td style=\"text-align:center;\">22</td><td>-0.3027758598</td><td>-0.3027756214</td><td>-0.3027757406</td><td>0.0000003710</td><td>1.1920928955e-07</td></tr><tr><td style=\"text-align:center;\">23</td><td>-0.3027757406</td><td>-0.3027756214</td><td>-0.3027756810</td><td>0.0000001561</td><td>5.9604644775e-08</td></tr><tr><td style=\"text-align:center;\">24</td><td>-0.3027756810</td><td>-0.3027756214</td><td>-0.3027756512</td><td>0.0000000486</td><td>2.9802322388e-08</td></tr><tr><td style=\"text-align:center;\">25</td><td>-0.3027756512</td><td>-0.3027756214</td><td>-0.3027756363</td><td>-0.0000000051</td><td>1.4901161194e-08</td></tr><tr><td style=\"text-align:center;\">26</td><td>-0.3027756512</td><td>-0.3027756363</td><td>-0.3027756438</td><td>0.0000000218</td><td>7.4505805969e-09</td></tr><tr><td style=\"text-align:center;\">27</td><td>-0.3027756438</td><td>-0.3027756363</td><td>-0.3027756400</td><td>0.0000000083</td><td>3.7252902985e-09</td></tr><tr><td style=\"text-align:center;\">28</td><td>-0.3027756400</td><td>-0.3027756363</td><td>-0.3027756382</td><td>0.0000000016</td><td>1.8626451492e-09</td></tr><tr><td style=\"text-align:center;\">29</td><td>-0.3027756382</td><td>-0.3027756363</td><td>-0.3027756372</td><td>-0.0000000017</td><td>9.3132257462e-10</td></tr></tbody></table>"
      ],
      "text/plain": [
       "<IPython.core.display.HTML object>"
      ]
     },
     "metadata": {},
     "output_type": "display_data"
    },
    {
     "name": "stdout",
     "output_type": "stream",
     "text": [
      "\n",
      "Raíz encontrada: -0.30277563724666834\n",
      "En la iteración 30\n"
     ]
    },
    {
     "data": {
      "image/png": "[encoded data removed]",
      "text/plain": [
       "<Figure size 648x648 with 1 Axes>"
      ]
     },
     "metadata": {},
     "output_type": "display_data"
    }
   ],
   "source": [
    "n = ceil(log(abs(higherbound-lowerbound)/tol,2))\n",
    "print(\"Número máximo de iteraciones: {}\\n\".format(n))\n",
    "\n",
    "a = lowerbound\n",
    "b = higherbound\n",
    "fa = f.subs(x, a).evalf()\n",
    "fb = f.subs(x, b).evalf()\n",
    "columns = [\"i\", \"a\", \"b\", \"c\", \"f(c)\", \"Eabs\"]\n",
    "data = []\n",
    "methodFailed = True\n",
    "if fb*fa < 0:\n",
    "    for i in range(n):\n",
    "        c = (a+b)/2\n",
    "        fc = f.subs(x, c).evalf()\n",
    "        e_abs = abs((b-a)/2)\n",
    "        aux = [str(i), \"{:.10f}\".format(a), \"{:.10f}\".format(b),\n",
    "               \"{:.10f}\".format(c), \"{:.10f}\".format(fc), \"{:.10e}\".format(e_abs)]\n",
    "        data.append(aux)\n",
    "        fa = f.subs(x, a).evalf()\n",
    "        if fc == 0 or e_abs < tol:\n",
    "            methodFailed = False\n",
    "            break\n",
    "        if fc*fa < 0: b = c\n",
    "        else: a = c\n",
    "            \n",
    "    if methodFailed:\n",
    "        print('El método falló después de {} iteraciones'.format(n))\n",
    "    else:\n",
    "#         table = base_table\n",
    "\n",
    "#         display(HTML(table))\n",
    "        printTable(columns, data)\n",
    "        print(\"\\nRaíz encontrada: {}\\nEn la iteración {}\".format(c, i+1))\n",
    "        \n",
    "        fig, ax = plot.subplots(figsize=(9,9));\n",
    "        ax.axhline(y=0, color=\"k\")\n",
    "        ax.axvline(x=0, color=\"k\")\n",
    "        xv = np.linspace(lowerbound-2,higherbound+2,100)\n",
    "        plot.plot(xv, lambdify(x, f)(xv))\n",
    "        plot.plot([c],[fc],\"ro\")\n",
    "        plot.grid()\n",
    "        plot.show()\n",
    "else:\n",
    "    print(\"No se puede garantizar la existencia de una raíz en el intervalo proporcionado para la función. [{},{}]\"\n",
    "         .format(lowerbound, higherbound)\n",
    "         )"
   ]
  },
  {
   "cell_type": "markdown",
   "metadata": {},
   "source": [
    "## Método de Punto Fijo"
   ]
  },
  {
   "cell_type": "markdown",
   "metadata": {},
   "source": [
    "El metodo de punto fijo es un algoritmo que trabaja de manera recursiva con iteraciones anteriores, para de esta manera encontrar las raices solucion a una ecuacion que se plantea de la siguiente manera $x = g(x)$  donde  $g(x) - x = f(x)$"
   ]
  },
  {
   "cell_type": "markdown",
   "metadata": {},
   "source": [
    "### Programa"
   ]
  },
  {
   "cell_type": "code",
   "execution_count": 19,
   "metadata": {},
   "outputs": [
    {
     "name": "stdout",
     "output_type": "stream",
     "text": [
      "Ingrese la función g(x): sqrt(10/(x+4))\n"
     ]
    },
    {
     "data": {
      "text/latex": [
       "$$ g(x) = \\sqrt{10} \\sqrt{\\frac{1}{x + 4}} $$"
      ],
      "text/plain": [
       "<IPython.core.display.Latex object>"
      ]
     },
     "metadata": {},
     "output_type": "display_data"
    }
   ],
   "source": [
    "# Solicitando la función a evaluar\n",
    "# g(x) = 1 / (x - 3)\n",
    "while True:\n",
    "    try:\n",
    "        g = sympify(input('Ingrese la función g(x): '))\n",
    "        break\n",
    "    except SympifyError:\n",
    "        print(\"¡Ups! Parece que la función no fue ingresada correctamente. Intente de nuevo.\")\n",
    "display(Latex('$$ g(x) = ' + latex(g) + ' $$'))"
   ]
  },
  {
   "cell_type": "code",
   "execution_count": 21,
   "metadata": {},
   "outputs": [
    {
     "name": "stdout",
     "output_type": "stream",
     "text": [
      "Ingrese la aproximación inicial: 1.5\n"
     ]
    }
   ],
   "source": [
    "# Solicitando el intervalo en el que se evalúa\n",
    "while True:\n",
    "    try:\n",
    "        p_inicial = float(simpify(input(\"Ingrese la aproximación inicial: \")).evalf())\n",
    "        break\n",
    "    except ValueError:\n",
    "        print(\"El valor ingresado no es un número. Intente de nuevo.\")"
   ]
  },
  {
   "cell_type": "code",
   "execution_count": 22,
   "metadata": {},
   "outputs": [
    {
     "name": "stdout",
     "output_type": "stream",
     "text": [
      "Ingrese la tolerancia deseada (p. e. 1e-6): 1e-10\n",
      "1e-10\n"
     ]
    }
   ],
   "source": [
    "# Solicitando la tolerancia\n",
    "while True:\n",
    "    try:\n",
    "        tol = abs(float(input(\"Ingrese la tolerancia deseada (p. e. 1e-6): \")))\n",
    "        break\n",
    "    except ValueError:\n",
    "        print(\"El valor ingresado no es un número. Intente de nuevo.\")\n",
    "\n",
    "print(tol)"
   ]
  },
  {
   "cell_type": "code",
   "execution_count": 23,
   "metadata": {},
   "outputs": [
    {
     "name": "stdout",
     "output_type": "stream",
     "text": [
      "Mayor cantidad de iteraciones posibles: 25.5\n",
      "El valor ingresado no es un número. Intente de nuevo.\n",
      "Mayor cantidad de iteraciones posibles: 25\n"
     ]
    }
   ],
   "source": [
    "# Solicitando el número máximo de iteraciones\n",
    "while True:\n",
    "    try:\n",
    "        n = abs(int(input(\"Mayor cantidad de iteraciones posibles: \")))\n",
    "        break\n",
    "    except ValueError:\n",
    "        print(\"El valor ingresado no es un número o no tiene el formato correcto. Intente de nuevo.\")"
   ]
  },
  {
   "cell_type": "code",
   "execution_count": 24,
   "metadata": {},
   "outputs": [
    {
     "data": {
      "text/html": [
       "<table class=\"table-bordered table-responsive\"><thead><tr><th style=\"width:40px; text-align:center\">i</th><th style=\"text-align:center\">p0</th><th style=\"text-align:center\">p</th><th style=\"text-align:center\">Eabs</th></tr></thead><tbody><tr><td style=\"text-align:center;\">0</td><td>1.5000000000</td><td>1.3483997249</td><td>1.5160027507e-1</td></tr><tr><td style=\"text-align:center;\">1</td><td>1.3483997249</td><td>1.3673763720</td><td>1.8976647065e-2</td></tr><tr><td style=\"text-align:center;\">2</td><td>1.3673763720</td><td>1.3649570154</td><td>2.4193565888e-3</td></tr><tr><td style=\"text-align:center;\">3</td><td>1.3649570154</td><td>1.3652647481</td><td>3.0773271096e-4</td></tr><tr><td style=\"text-align:center;\">4</td><td>1.3652647481</td><td>1.3652255942</td><td>3.9153952917e-5</td></tr><tr><td style=\"text-align:center;\">5</td><td>1.3652255942</td><td>1.3652305757</td><td>4.9815129088e-6</td></tr><tr><td style=\"text-align:center;\">6</td><td>1.3652305757</td><td>1.3652299419</td><td>6.3379525050e-7</td></tr><tr><td style=\"text-align:center;\">7</td><td>1.3652299419</td><td>1.3652300225</td><td>8.0637385214e-8</td></tr><tr><td style=\"text-align:center;\">8</td><td>1.3652300225</td><td>1.3652300123</td><td>1.0259446404e-8</td></tr><tr><td style=\"text-align:center;\">9</td><td>1.3652300123</td><td>1.3652300136</td><td>1.3053031989e-9</td></tr><tr><td style=\"text-align:center;\">10</td><td>1.3652300136</td><td>1.3652300134</td><td>1.6607293318e-10</td></tr><tr><td style=\"text-align:center;\">11</td><td>1.3652300134</td><td>1.3652300134</td><td>2.1129320515e-11</td></tr></tbody></table>"
      ],
      "text/plain": [
       "<IPython.core.display.HTML object>"
      ]
     },
     "metadata": {},
     "output_type": "display_data"
    },
    {
     "name": "stdout",
     "output_type": "stream",
     "text": [
      "\n",
      "Raíz encontrada: 1.36523001341648\n",
      "En la iteración 12\n"
     ]
    },
    {
     "data": {
      "image/png": "[encoded data removed]",
      "text/plain": [
       "<Figure size 648x648 with 1 Axes>"
      ]
     },
     "metadata": {},
     "output_type": "display_data"
    }
   ],
   "source": [
    "p0 = p_inicial\n",
    "columns = ['i', 'p0', 'p', 'Eabs']\n",
    "data = []\n",
    "f = lambda x: x**3 + 4*x**2 - 10\n",
    "methodFailed = True\n",
    "for i in range(n):\n",
    "    p = g.subs(x, p0).evalf()\n",
    "    e_abs = abs(p - p0).evalf()\n",
    "    aux = [str(i), \"{:.10f}\".format(p0), \"{:.10f}\".format(p), \"{:.10e}\".format(e_abs)]\n",
    "    data.append(aux)\n",
    "    if e_abs < tol:\n",
    "        methodFailed = False\n",
    "        break\n",
    "    p0 = p\n",
    "if methodFailed:\n",
    "    print(\"El método falló después de {} iteracioens\".format(n))\n",
    "else:\n",
    "    printTable(columns, data)\n",
    "    print(\"\\nRaíz encontrada: {}\\nEn la iteración {}\".format(p, i+1))\n",
    "\n",
    "    fig, ax = plot.subplots(figsize=(9,9));\n",
    "    ax.axhline(y=0, color=\"k\")\n",
    "    ax.axvline(x=0, color=\"k\")\n",
    "    xv = np.linspace(p_inicial-5,p_inicial+1,100)\n",
    "    plot.plot(xv, f(xv))\n",
    "    plot.plot(xv, lambdify(x, g)(xv))\n",
    "    plot.plot([p],[f(p)],\"ro\")\n",
    "    plot.grid()\n",
    "    plot.show()"
   ]
  },
  {
   "cell_type": "markdown",
   "metadata": {},
   "source": [
    "# Método de la Secante"
   ]
  },
  {
   "cell_type": "markdown",
   "metadata": {},
   "source": [
    "En el analisis numerico el metodo de la secante es un metodo para encontrar las raices de una funcion de forma iterativa.\n",
    "\n",
    "Es una variación del método de Newton-Raphson donde en vez de calcular la derivada de la función en el punto de estudio, teniendo en mente la definición de derivada, se aproxima la pendiente a la recta que une la función evaluada en el punto de estudio y en el punto de la iteración anterior. Este método es de especial interés cuando el coste computacional de derivar la función de estudio y evaluarla es demasiado elevado, por lo que el método de Newton no resulta atractivo.\n",
    "\n",
    "En otras palabras, el método de la secante es un algoritmo de la raíz de investigación que utiliza una serie de raíces de las líneas secantes para aproximar mejor la raíz de una función f. El método de la secante se puede considerar como una aproximación en diferencias finitas del método de Newton-Raphson. Sin embargo, este método fue desarrollado independientemente de este último."
   ]
  },
  {
   "cell_type": "code",
   "execution_count": 65,
   "metadata": {},
   "outputs": [
    {
     "name": "stdout",
     "output_type": "stream",
     "text": [
      "Ingrese la función f(x): x**2 - 6\n"
     ]
    },
    {
     "data": {
      "text/latex": [
       "$$ f(x) = x^{2} - 6 $$"
      ],
      "text/plain": [
       "<IPython.core.display.Latex object>"
      ]
     },
     "metadata": {},
     "output_type": "display_data"
    }
   ],
   "source": [
    "# Solicitando la función a evaluar\n",
    "while True:\n",
    "    try:\n",
    "        f = sympify(input('Ingrese la función f(x): '))\n",
    "        break\n",
    "    except SympifyError:\n",
    "        print(\"¡Ups! Parece que la función no fue ingresada correctamente. Intente de nuevo.\")\n",
    "display(Latex('$$ f(x) = ' + latex(f) + ' $$'))"
   ]
  },
  {
   "cell_type": "code",
   "execution_count": 68,
   "metadata": {
    "scrolled": true
   },
   "outputs": [
    {
     "name": "stdout",
     "output_type": "stream",
     "text": [
      "Ingrese la aproximación inicial p0: 3\n",
      "Ingrese la aproximación inicial p1: 2\n"
     ]
    }
   ],
   "source": [
    "while True:\n",
    "    try:\n",
    "        p0_inicial = float(sympify(input(\"Ingrese la aproximación inicial p0: \")).evalf())\n",
    "        p1_inicial = float(sympify(input(\"Ingrese la aproximación inicial p1: \")).evalf())\n",
    "        break\n",
    "    except ValueError:\n",
    "        print(\"El valor ingresado no es un número. Intente de nuevo.\")"
   ]
  },
  {
   "cell_type": "code",
   "execution_count": 37,
   "metadata": {},
   "outputs": [
    {
     "name": "stdout",
     "output_type": "stream",
     "text": [
      "Ingrese la tolerancia deseada (p. e. 1e-6): 1e-10\n"
     ]
    }
   ],
   "source": [
    "# Solicitando la tolerancia\n",
    "while True:\n",
    "    try:\n",
    "        tol = abs(float(input(\"Ingrese la tolerancia deseada (p. e. 1e-6): \")))\n",
    "        break\n",
    "    except ValueError:\n",
    "        print(\"El valor ingresado no es un número. Intente de nuevo.\")"
   ]
  },
  {
   "cell_type": "code",
   "execution_count": 38,
   "metadata": {},
   "outputs": [
    {
     "name": "stdout",
     "output_type": "stream",
     "text": [
      "Mayor cantidad de iteraciones posibles: 50\n",
      "50\n"
     ]
    }
   ],
   "source": [
    "# Solicitando el número máximo de iteraciones\n",
    "while True:\n",
    "    try:\n",
    "        n = abs(int(input(\"Mayor cantidad de iteraciones posibles: \")))\n",
    "        break\n",
    "    except ValueError as err:\n",
    "        print(\"El valor ingresado no es un número o no tiene el formato correcto.\"\n",
    "              \"Error: {}\\nIntente de nuevo.\".format(err))\n",
    "print(n)"
   ]
  },
  {
   "cell_type": "code",
   "execution_count": 69,
   "metadata": {},
   "outputs": [
    {
     "data": {
      "text/html": [
       "<table class=\"table-bordered table-responsive\"><thead><tr><th style=\"width:40px; text-align:center\">i</th><th style=\"text-align:center\">p0</th><th style=\"text-align:center\">p1</th><th style=\"text-align:center\">p</th><th style=\"text-align:center\">Eabs</th></tr></thead><tbody><tr><td style=\"text-align:center;\">0</td><td>3.0000000000</td><td>2.0000000000</td><td>2.4000000000</td><td>4.0000000000e-1</td></tr><tr><td style=\"text-align:center;\">1</td><td>2.0000000000</td><td>2.4000000000</td><td>2.4545454545</td><td>5.4545454545e-2</td></tr><tr><td style=\"text-align:center;\">2</td><td>2.4000000000</td><td>2.4545454545</td><td>2.4494382022</td><td>5.1072522983e-3</td></tr><tr><td style=\"text-align:center;\">3</td><td>2.4545454545</td><td>2.4494382022</td><td>2.4494896896</td><td>5.1487400799e-5</td></tr><tr><td style=\"text-align:center;\">4</td><td>2.4494382022</td><td>2.4494896896</td><td>2.4494897428</td><td>5.3135746914e-8</td></tr><tr><td style=\"text-align:center;\">5</td><td>2.4494896896</td><td>2.4494897428</td><td>2.4494897428</td><td>5.5910831520e-13</td></tr></tbody></table>"
      ],
      "text/plain": [
       "<IPython.core.display.HTML object>"
      ]
     },
     "metadata": {},
     "output_type": "display_data"
    },
    {
     "name": "stdout",
     "output_type": "stream",
     "text": [
      "\n",
      "Raíz encontrada: 2.44948974278318\n",
      "En la iteración 6\n"
     ]
    },
    {
     "data": {
      "image/png": "[encoded data removed]",
      "text/plain": [
       "<Figure size 648x648 with 1 Axes>"
      ]
     },
     "metadata": {},
     "output_type": "display_data"
    }
   ],
   "source": [
    "p0 = p0_inicial\n",
    "p1 = p1_inicial\n",
    "\n",
    "columns = [\"i\", \"p0\", \"p1\", \"p\", \"Eabs\"]\n",
    "data = []\n",
    "\n",
    "methodFailed = True\n",
    "for i in range(n):\n",
    "    p = (p1 - (f.subs(x, p1) * (p1 - p0))/(f.subs(x, p1) - f.subs(x, p0))).evalf()\n",
    "    e_abs = abs(p - p1)\n",
    "    aux = [str(i), \"{:.10f}\".format(p0), \"{:.10f}\".format(p1), \"{:.10f}\".format(p), \"{:.10e}\".format(e_abs)]\n",
    "    data.append(aux)\n",
    "    if e_abs < tol:\n",
    "        methodFailed = False\n",
    "        break\n",
    "    p0, p1 = p1, p\n",
    "if methodFailed:\n",
    "    print(\"El método fallo después de {} iteraciones.\".format(n))\n",
    "else:\n",
    "    printTable(columns, data)\n",
    "    print(\"\\nRaíz encontrada: {}\\nEn la iteración {}\".format(p, i+1))\n",
    "\n",
    "    fig, ax = plot.subplots(figsize=(9,9));\n",
    "    ax.axhline(y=0, color=\"k\")\n",
    "    ax.axvline(x=0, color=\"k\")\n",
    "    xv = np.linspace(p0_inicial-3,p1_inicial+3,100)\n",
    "    plot.plot(xv, lambdify(x, f)(xv))\n",
    "    plot.plot([p],[f.subs(x, p).evalf()],\"ro\")\n",
    "    plot.grid()\n",
    "    plot.show()"
   ]
  }
 ],
 "metadata": {
  "kernelspec": {
   "display_name": "Python 3",
   "language": "python",
   "name": "python3"
  },
  "language_info": {
   "codemirror_mode": {
    "name": "ipython",
    "version": 3
   },
   "file_extension": ".py",
   "mimetype": "text/x-python",
   "name": "python",
   "nbconvert_exporter": "python",
   "pygments_lexer": "ipython3",
   "version": "3.6.5"
  }
 },
 "nbformat": 4,
 "nbformat_minor": 2
}
